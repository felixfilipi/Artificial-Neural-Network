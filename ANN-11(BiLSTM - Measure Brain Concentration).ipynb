{
 "cells": [
  {
   "cell_type": "code",
   "execution_count": 1,
   "id": "658682e0-5620-4616-9335-60d5c475be16",
   "metadata": {},
   "outputs": [
    {
     "name": "stderr",
     "output_type": "stream",
     "text": [
      "2021-07-10 22:08:45.619518: W tensorflow/stream_executor/platform/default/dso_loader.cc:64] Could not load dynamic library 'libcudart.so.11.0'; dlerror: libcudart.so.11.0: cannot open shared object file: No such file or directory\n",
      "2021-07-10 22:08:45.619556: I tensorflow/stream_executor/cuda/cudart_stub.cc:29] Ignore above cudart dlerror if you do not have a GPU set up on your machine.\n"
     ]
    }
   ],
   "source": [
    "import numpy as np\n",
    "import pandas as pd\n",
    "import os\n",
    "import glob\n",
    "import re\n",
    "import matplotlib.pyplot as plt\n",
    "\n",
    "from keras.models import Sequential\n",
    "from keras.layers import LSTM\n",
    "from keras.layers import Dense\n",
    "from keras.layers import TimeDistributed\n",
    "from keras.layers import Bidirectional\n",
    "\n",
    "from sklearn.model_selection import train_test_split\n",
    "from sklearn.metrics import accuracy_score"
   ]
  },
  {
   "cell_type": "code",
   "execution_count": 6,
   "id": "12826bc6-0333-46b1-9420-c6a1e87da466",
   "metadata": {},
   "outputs": [],
   "source": [
    "def split_sequences(sequences, n_steps, states):\n",
    "    x, y = list(), list()\n",
    "    for i in range(len(sequences)):\n",
    "        end_ix = i + n_steps\n",
    "\n",
    "        if end_ix > len(sequences) - 1:\n",
    "            break\n",
    "\n",
    "        seq_x = sequences[i:end_ix, :]\n",
    "        x.append(seq_x)\n",
    "        y.append(states)\n",
    "\n",
    "    return np.array(x), np.array(y)\n",
    "\n",
    "def train_dataset_generate(subject):\n",
    "\n",
    "    files = glob.glob(\"dataset/\" + subject + \"*.csv\")\n",
    "    states_arr = []\n",
    "    print(files)\n",
    "    input(\"FASKLJB\")\n",
    "\n",
    "    for i in range(len(files)):\n",
    "        states = re.findall(r'-([^\"]*)-', files[i])\n",
    "\n",
    "        if states[0] == \"relaxed\":\n",
    "            states = 0\n",
    "        elif states[0] == \"neutral\":\n",
    "            states = 0.5\n",
    "        else:\n",
    "            states = 1\n",
    "\n",
    "        states_arr.append(states)\n",
    "\n",
    "    data = {\n",
    "        \"dir\": files,\n",
    "        \"states\": states_arr\n",
    "    }\n",
    "    df = pd.DataFrame(data)\n",
    "\n",
    "    return df\n",
    "\n",
    "def create_sequences(dataset, n_steps):\n",
    "    sequences_arr = np.empty((0, n_steps, 4))\n",
    "    targets_arr = np.empty(0)\n",
    "    attributes = [\n",
    "        \"TP9\",\n",
    "        \"AF7\",\n",
    "        \"AF8\",\n",
    "        \"TP10\"\n",
    "    ]\n",
    "    dir = np.array(dataset[\"dir\"])\n",
    "    states_arr = np.array(dataset[\"states\"])\n",
    "    for i in range(len(dir)):\n",
    "\n",
    "       df = pd.read_csv(dir[i])\n",
    "       sequences, target = split_sequences(np.array(df[attributes]), n_steps, states_arr[i])\n",
    "\n",
    "       sequences_arr = np.append(sequences_arr, sequences, axis = 0)\n",
    "       targets_arr = np.append(targets_arr, target)\n",
    "\n",
    "    return sequences_arr, targets_arr"
   ]
  },
  {
   "cell_type": "code",
   "execution_count": 7,
   "id": "52c675cd-8943-45cb-aa0a-c6e3f48262c6",
   "metadata": {},
   "outputs": [
    {
     "name": "stdout",
     "output_type": "stream",
     "text": [
      "['dataset/subjectb-relaxed-2.csv', 'dataset/subjectb-neutral-2.csv', 'dataset/subjectb-relaxed-1.csv', 'dataset/subjectb-concentrating-2.csv', 'dataset/subjectb-concentrating-1.csv', 'dataset/subjectb-neutral-1.csv']\n"
     ]
    },
    {
     "name": "stdin",
     "output_type": "stream",
     "text": [
      "FASKLJB \n"
     ]
    }
   ],
   "source": [
    "subjectname = \"subjectb\"\n",
    "n_steps = 100\n",
    "dataset = train_dataset_generate(subjectname)\n",
    "x, y = create_sequences(dataset, n_steps)\n",
    "n_features = x.shape[2]"
   ]
  },
  {
   "cell_type": "code",
   "execution_count": 8,
   "id": "dad93d97-b2e5-4b28-9a38-a9112cddf818",
   "metadata": {},
   "outputs": [
    {
     "name": "stderr",
     "output_type": "stream",
     "text": [
      "2021-07-10 22:11:57.652694: W tensorflow/stream_executor/platform/default/dso_loader.cc:64] Could not load dynamic library 'libcuda.so.1'; dlerror: libcuda.so.1: cannot open shared object file: No such file or directory\n",
      "2021-07-10 22:11:57.652745: W tensorflow/stream_executor/cuda/cuda_driver.cc:326] failed call to cuInit: UNKNOWN ERROR (303)\n",
      "2021-07-10 22:11:57.652787: I tensorflow/stream_executor/cuda/cuda_diagnostics.cc:156] kernel driver does not appear to be running on this host (brian-pc-server2): /proc/driver/nvidia/version does not exist\n",
      "2021-07-10 22:11:57.708088: W tensorflow/core/framework/cpu_allocator_impl.cc:80] Allocation of 125337600 exceeds 10% of free system memory.\n",
      "2021-07-10 22:11:57.941194: I tensorflow/compiler/mlir/mlir_graph_optimization_pass.cc:176] None of the MLIR Optimization Passes are enabled (registered 2)\n",
      "2021-07-10 22:11:57.958644: I tensorflow/core/platform/profile_utils/cpu_utils.cc:114] CPU Frequency: 3092945000 Hz\n"
     ]
    },
    {
     "name": "stdout",
     "output_type": "stream",
     "text": [
      "Epoch 1/2\n",
      "2448/2448 [==============================] - ETA: 0s - loss: 0.0086 - accuracy: 0.6101"
     ]
    },
    {
     "name": "stderr",
     "output_type": "stream",
     "text": [
      "2021-07-10 22:15:25.547387: W tensorflow/core/framework/cpu_allocator_impl.cc:80] Allocation of 125337600 exceeds 10% of free system memory.\n"
     ]
    },
    {
     "name": "stdout",
     "output_type": "stream",
     "text": [
      "2448/2448 [==============================] - 274s 101ms/step - loss: 0.0086 - accuracy: 0.6101 - val_loss: 1.3605e-04 - val_accuracy: 0.6142\n",
      "Epoch 2/2\n",
      "2448/2448 [==============================] - 243s 99ms/step - loss: 3.2622e-04 - accuracy: 0.6136 - val_loss: 2.1980e-05 - val_accuracy: 0.6142\n"
     ]
    }
   ],
   "source": [
    "model = Sequential()\n",
    "model.add(Bidirectional(LSTM(128, input_shape=(n_steps, n_features))))\n",
    "model.add(Dense(64, activation = \"relu\"))\n",
    "model.add(Dense(1, activation = \"sigmoid\"))\n",
    "model.compile(loss = \"mse\", optimizer = \"adam\", metrics = [\"accuracy\"])\n",
    "\n",
    "history = model.fit(x, y, epochs = 2, validation_data = (x, y))"
   ]
  },
  {
   "cell_type": "code",
   "execution_count": 10,
   "id": "da92bf66-2f81-4d7a-ae21-c6816aa65e64",
   "metadata": {},
   "outputs": [
    {
     "name": "stdout",
     "output_type": "stream",
     "text": [
      "['dataset/subjecta-concentrating-1.csv', 'dataset/subjecta-neutral-1.csv', 'dataset/subjecta-relaxed-1.csv', 'dataset/subjecta-neutral-2.csv', 'dataset/subjecta-relaxed-2.csv', 'dataset/subjecta-concentrating-2.csv']\n"
     ]
    }
   ],
   "source": [
    "def test_dataset_generate(subject):\n",
    "\n",
    "    files = glob.glob(\"dataset/\" + subject + \"*.csv\")\n",
    "    states_arr = []\n",
    "    print(files)\n",
    "\n",
    "    for i in range(len(files)):\n",
    "        states = re.findall(r'-([^\"]*)-', files[i])\n",
    "\n",
    "        if states[0] == \"relaxed\":\n",
    "            states = 0\n",
    "        elif states[0] == \"neutral\":\n",
    "            states = 0.5\n",
    "        else:\n",
    "            states = 1\n",
    "\n",
    "        states_arr.append(states)\n",
    "\n",
    "    data = {\n",
    "        \"dir\": files,\n",
    "        \"states\": states_arr\n",
    "    }\n",
    "    df = pd.DataFrame(data)\n",
    "\n",
    "    return df\n",
    "\n",
    "subjecttest = \"subjecta\"\n",
    "dataset_test = test_dataset_generate(subjecttest)\n",
    "x_test, y_test = create_sequences(dataset_test, n_steps)"
   ]
  },
  {
   "cell_type": "code",
   "execution_count": 11,
   "id": "72e2937e-5b0c-4c74-bb8d-c50806ddcd2e",
   "metadata": {},
   "outputs": [
    {
     "name": "stderr",
     "output_type": "stream",
     "text": [
      "2021-07-10 22:22:35.793219: W tensorflow/core/framework/cpu_allocator_impl.cc:80] Allocation of 142099200 exceeds 10% of free system memory.\n"
     ]
    },
    {
     "name": "stdout",
     "output_type": "stream",
     "text": [
      "2776/2776 [==============================] - 79s 28ms/step - loss: 0.0486 - accuracy: 0.5783\n"
     ]
    },
    {
     "name": "stderr",
     "output_type": "stream",
     "text": [
      "2021-07-10 22:23:54.612153: W tensorflow/core/framework/cpu_allocator_impl.cc:80] Allocation of 142099200 exceeds 10% of free system memory.\n"
     ]
    }
   ],
   "source": [
    "_, accuracy = model.evaluate(x_test, y_test)\n",
    "prediction = model.predict(x_test)\n",
    "prediction = np.round(prediction.flatten(), 1)\n",
    "data = {\n",
    "    \"Prediction\": prediction,\n",
    "    \"Actual\": y_test.flatten()\n",
    "}\n",
    "df = pd.DataFrame(data, columns = [\"Prediction\", \"Actual\"])\n",
    "df.to_csv(\"2_btoa.csv\")\n"
   ]
  },
  {
   "cell_type": "code",
   "execution_count": 12,
   "id": "e4645ad9-9dcc-4361-9a4f-f8c310ef203f",
   "metadata": {},
   "outputs": [
    {
     "data": {
      "image/png": "[encoded data removed]",
      "text/plain": [
       "<Figure size 432x288 with 1 Axes>"
      ]
     },
     "metadata": {
      "needs_background": "light"
     },
     "output_type": "display_data"
    },
    {
     "data": {
      "image/png": "[encoded data removed]",
      "text/plain": [
       "<Figure size 432x288 with 1 Axes>"
      ]
     },
     "metadata": {
      "needs_background": "light"
     },
     "output_type": "display_data"
    }
   ],
   "source": [
    "plt.plot(history.history['accuracy'])\n",
    "plt.plot(history.history['val_accuracy'])\n",
    "plt.title('model accuracy (subject 2)')\n",
    "plt.ylabel('accuracy')\n",
    "plt.xlabel('epoch')\n",
    "plt.legend(['train', 'test'], loc='upper left')\n",
    "plt.show()\n",
    "# summarize history for loss\n",
    "plt.plot(history.history['loss'])\n",
    "plt.plot(history.history['val_loss'])\n",
    "plt.title('model loss (subject 2)')\n",
    "plt.ylabel('loss')\n",
    "plt.xlabel('epoch')\n",
    "plt.legend(['train', 'test'], loc='upper left')\n",
    "plt.show()"
   ]
  },
  {
   "cell_type": "code",
   "execution_count": 14,
   "id": "43ff3420-7c6a-4c4b-b266-584a1601785a",
   "metadata": {},
   "outputs": [
    {
     "name": "stdout",
     "output_type": "stream",
     "text": [
      "0.7941494392649642\n"
     ]
    },
    {
     "data": {
      "image/png": "[encoded data removed]",
      "text/plain": [
       "<Figure size 432x288 with 2 Axes>"
      ]
     },
     "metadata": {
      "needs_background": "light"
     },
     "output_type": "display_data"
    }
   ],
   "source": [
    "from sklearn.metrics import accuracy_score\n",
    "from sklearn.metrics import confusion_matrix\n",
    "from sklearn.preprocessing import LabelEncoder\n",
    "import seaborn as sns\n",
    "\n",
    "le = LabelEncoder()\n",
    "df = pd.read_csv(\"2_btoa.csv\")\n",
    "actual = le.fit_transform(df[\"Actual\"])\n",
    "prediction = df[\"Prediction\"].values\n",
    "prediction_arr = []\n",
    "for i in range(len(prediction)):\n",
    "\n",
    "    if prediction[i] >= 0 and prediction[i] <= 0.2:\n",
    "        val = 0\n",
    "    elif prediction[i] > 0.2 and prediction[i] <= 0.7:\n",
    "        val = 0.5\n",
    "    elif prediction[i] > 0.7 and prediction[i] <= 1.0:\n",
    "        val = 1\n",
    "\n",
    "    prediction_arr.append(val)\n",
    "\n",
    "prediction = le.fit_transform(prediction_arr)\n",
    "print(accuracy_score(actual, prediction))\n",
    "confusion_matrix = confusion_matrix(actual, prediction)\n",
    "sns.heatmap(confusion_matrix, annot=True)\n",
    "plt.show()"
   ]
  }
 ],
 "metadata": {
  "kernelspec": {
   "display_name": "Python 3",
   "language": "python",
   "name": "python3"
  },
  "language_info": {
   "codemirror_mode": {
    "name": "ipython",
    "version": 3
   },
   "file_extension": ".py",
   "mimetype": "text/x-python",
   "name": "python",
   "nbconvert_exporter": "python",
   "pygments_lexer": "ipython3",
   "version": "3.7.9"
  }
 },
 "nbformat": 4,
 "nbformat_minor": 5
}
