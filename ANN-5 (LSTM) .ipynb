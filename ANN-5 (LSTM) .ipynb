{
 "cells": [
  {
   "cell_type": "code",
   "execution_count": 1,
   "id": "higher-quality",
   "metadata": {},
   "outputs": [],
   "source": [
    "import tensorflow as tf\n",
    "import pandas as pd\n",
    "import matplotlib.pyplot as plt\n",
    "import numpy as np\n",
    "from sklearn.preprocessing import MinMaxScaler"
   ]
  },
  {
   "cell_type": "code",
   "execution_count": 2,
   "id": "honey-machine",
   "metadata": {},
   "outputs": [],
   "source": [
    "def load_dataset():\n",
    "    dataset=pd.read_csv(\"Milk.csv\",index_col='Month')\n",
    "    dataset.index = pd.to_datetime(dataset.index)\n",
    "    \n",
    "    ratio=0.9\n",
    "    train_dataset=dataset[0:int(len(dataset)*ratio)]\n",
    "    test_dataset=dataset[int(len(dataset)*ratio)+1:]\n",
    "    \n",
    "    return train_dataset,test_dataset"
   ]
  },
  {
   "cell_type": "code",
   "execution_count": 3,
   "id": "certified-index",
   "metadata": {},
   "outputs": [],
   "source": [
    "train_dataset,test_dataset=load_dataset()\n",
    "normalized_train_dataset=MinMaxScaler().fit_transform(train_dataset)\n",
    "normalized_test_dataset=MinMaxScaler().fit_transform(test_dataset)\n",
    "    "
   ]
  },
  {
   "cell_type": "code",
   "execution_count": 4,
   "id": "designing-aggregate",
   "metadata": {},
   "outputs": [],
   "source": [
    "layer = {\n",
    "    'input':1,\n",
    "    'hidden':100,\n",
    "    'output': 1\n",
    "}\n",
    "batch_size=2 #tiap epoch ambil berapa set\n",
    "time_step=12 #setiap batch isinya ambil berapa set\n",
    "epoch=1000\n",
    "learning_rate=0.01"
   ]
  },
  {
   "cell_type": "code",
   "execution_count": 5,
   "id": "smooth-definition",
   "metadata": {},
   "outputs": [],
   "source": [
    "input_placeholder=tf.placeholder(tf.float32,[None, time_step,layer['input']])\n",
    "output_placeholder=tf.placeholder(tf.float32,[None, time_step,layer['output']])"
   ]
  },
  {
   "cell_type": "code",
   "execution_count": 6,
   "id": "distinguished-license",
   "metadata": {},
   "outputs": [
    {
     "name": "stdout",
     "output_type": "stream",
     "text": [
      "WARNING:tensorflow:From <ipython-input-6-a30e2404a7bd>:2: BasicRNNCell.__init__ (from tensorflow.python.ops.rnn_cell_impl) is deprecated and will be removed in a future version.\n",
      "Instructions for updating:\n",
      "This class is equivalent as tf.keras.layers.SimpleRNNCell, and will be replaced by that in Tensorflow 2.0.\n",
      "WARNING:tensorflow:\n",
      "The TensorFlow contrib module will not be included in TensorFlow 2.0.\n",
      "For more information, please see:\n",
      "  * https://github.com/tensorflow/community/blob/master/rfcs/20180907-contrib-sunset.md\n",
      "  * https://github.com/tensorflow/addons\n",
      "  * https://github.com/tensorflow/io (for I/O related ops)\n",
      "If you depend on functionality not listed there, please file an issue.\n",
      "\n"
     ]
    }
   ],
   "source": [
    "#cell construct + activation\n",
    "cell=tf.nn.rnn_cell.BasicRNNCell(layer['hidden'], activation=tf.nn.relu)\n",
    "cell=tf.contrib.rnn.OutputProjectionWrapper(cell,output_size=layer['output'],activation=tf.nn.relu)"
   ]
  },
  {
   "cell_type": "code",
   "execution_count": 7,
   "id": "recognized-majority",
   "metadata": {
    "scrolled": true
   },
   "outputs": [
    {
     "name": "stdout",
     "output_type": "stream",
     "text": [
      "WARNING:tensorflow:From <ipython-input-7-658da87df5a2>:1: dynamic_rnn (from tensorflow.python.ops.rnn) is deprecated and will be removed in a future version.\n",
      "Instructions for updating:\n",
      "Please use `keras.layers.RNN(cell)`, which is equivalent to this API\n",
      "WARNING:tensorflow:From C:\\Users\\User\\anaconda3\\envs\\tensorflow\\lib\\site-packages\\tensorflow_core\\python\\ops\\rnn_cell_impl.py:456: Layer.add_variable (from tensorflow.python.keras.engine.base_layer) is deprecated and will be removed in a future version.\n",
      "Instructions for updating:\n",
      "Please use `layer.add_weight` method instead.\n",
      "WARNING:tensorflow:From C:\\Users\\User\\anaconda3\\envs\\tensorflow\\lib\\site-packages\\tensorflow_core\\python\\ops\\rnn_cell_impl.py:460: calling Zeros.__init__ (from tensorflow.python.ops.init_ops) with dtype is deprecated and will be removed in a future version.\n",
      "Instructions for updating:\n",
      "Call initializer instance with the dtype argument instead of passing it to the constructor\n",
      "WARNING:tensorflow:From C:\\Users\\User\\anaconda3\\envs\\tensorflow\\lib\\site-packages\\tensorflow_core\\contrib\\rnn\\python\\ops\\core_rnn_cell.py:104: calling Constant.__init__ (from tensorflow.python.ops.init_ops) with dtype is deprecated and will be removed in a future version.\n",
      "Instructions for updating:\n",
      "Call initializer instance with the dtype argument instead of passing it to the constructor\n"
     ]
    }
   ],
   "source": [
    "output,_=tf.nn.dynamic_rnn(cell, input_placeholder, dtype=tf.float32)"
   ]
  },
  {
   "cell_type": "code",
   "execution_count": 8,
   "id": "purple-south",
   "metadata": {},
   "outputs": [
    {
     "name": "stdout",
     "output_type": "stream",
     "text": [
      "WARNING:tensorflow:From C:\\Users\\User\\anaconda3\\envs\\tensorflow\\lib\\site-packages\\tensorflow_core\\python\\ops\\math_grad.py:1375: where (from tensorflow.python.ops.array_ops) is deprecated and will be removed in a future version.\n",
      "Instructions for updating:\n",
      "Use tf.where in 2.0, which has the same broadcast rule as np.where\n"
     ]
    }
   ],
   "source": [
    "loss=tf.reduce_mean(0.5 * (output_placeholder-output) **2)\n",
    "train=tf.train.AdamOptimizer(learning_rate).minimize(loss)"
   ]
  },
  {
   "cell_type": "code",
   "execution_count": 9,
   "id": "flexible-bailey",
   "metadata": {},
   "outputs": [],
   "source": [
    "saver=tf.train.Saver()"
   ]
  },
  {
   "cell_type": "code",
   "execution_count": 10,
   "id": "genetic-rates",
   "metadata": {},
   "outputs": [],
   "source": [
    "def get_batch(dataset,time_step,batch_size):\n",
    "    input_batch=np.zeros(shape=(batch_size,time_step,layer['input']))\n",
    "    output_batch=np.zeros(shape=(batch_size,time_step,layer['output']))\n",
    "    for i in range (batch_size):\n",
    "        point = np.random.randint(0,len(dataset)-time_step)\n",
    "        \n",
    "        input_batch[i]=dataset[point:point+time_step]\n",
    "        output_batch[i]=dataset[point+1:point+time_step+1]\n",
    "        \n",
    "    return input_batch, output_batch"
   ]
  },
  {
   "cell_type": "code",
   "execution_count": 11,
   "id": "considerable-encoding",
   "metadata": {},
   "outputs": [
    {
     "name": "stdout",
     "output_type": "stream",
     "text": [
      "epoch:0,loss:0.024622337892651558\n",
      "epoch:250,loss:0.00467419670894742\n",
      "epoch:500,loss:0.004126868676394224\n",
      "epoch:750,loss:0.003071831539273262\n",
      "epoch:1000,loss:0.0017167403129860759\n"
     ]
    }
   ],
   "source": [
    "with tf.Session() as sess:\n",
    "    sess.run(tf.global_variables_initializer())\n",
    "    \n",
    "    for i in range(epoch+1):\n",
    "        input_batch, output_batch=get_batch(normalized_train_dataset, time_step,batch_size)\n",
    "        \n",
    "        feed={\n",
    "            input_placeholder:input_batch,\n",
    "            output_placeholder:output_batch\n",
    "        }\n",
    "        \n",
    "        sess.run(train,feed_dict=feed)\n",
    "        if i%250 == 0:\n",
    "            print('epoch:{},loss:{}'.format(i,sess.run(loss,feed_dict=feed)))\n",
    "            \n",
    "    saver.save(sess,\"model/model2.ckpt\")"
   ]
  },
  {
   "cell_type": "code",
   "execution_count": 12,
   "id": "affecting-watershed",
   "metadata": {},
   "outputs": [
    {
     "name": "stdout",
     "output_type": "stream",
     "text": [
      "INFO:tensorflow:Restoring parameters from model/model2.ckpt\n"
     ]
    },
    {
     "name": "stderr",
     "output_type": "stream",
     "text": [
      "C:\\Users\\User\\anaconda3\\envs\\tensorflow\\lib\\site-packages\\ipykernel_launcher.py:19: SettingWithCopyWarning: \n",
      "A value is trying to be set on a copy of a slice from a DataFrame.\n",
      "Try using .loc[row_indexer,col_indexer] = value instead\n",
      "\n",
      "See the caveats in the documentation: https://pandas.pydata.org/pandas-docs/stable/user_guide/indexing.html#returning-a-view-versus-a-copy\n"
     ]
    },
    {
     "data": {
      "image/png": "[encoded data removed]",
      "text/plain": [
       "<Figure size 432x288 with 1 Axes>"
      ]
     },
     "metadata": {
      "needs_background": "light"
     },
     "output_type": "display_data"
    }
   ],
   "source": [
    "with tf.Session() as sess:\n",
    "    saver.restore(sess,\"model/model2.ckpt\")\n",
    "    \n",
    "    listed_dataset = list(normalized_train_dataset)\n",
    "    input_batch=np.array(listed_dataset[-time_step - 1:len(listed_dataset)-1]).reshape(1,time_step,layer['input'])\n",
    "    \n",
    "    feed={\n",
    "        input_placeholder:input_batch\n",
    "    }\n",
    "    \n",
    "    prediction=sess.run(output,feed_dict=feed)\n",
    "    for i in range(time_step):\n",
    "        listed_dataset.append(prediction[0,i,0])\n",
    "        \n",
    "prediction_calculation = np.array(listed_dataset[-time_step:]).reshape([1,time_step])\n",
    "prediction_calculation = MinMaxScaler().fit(test_dataset).inverse_transform(prediction_calculation)\n",
    "\n",
    "visualizer=train_dataset.tail(time_step)\n",
    "visualizer['prediction']=prediction_calculation[0]\n",
    "\n",
    "visualizer.plot()\n",
    "plt.show()"
   ]
  }
 ],
 "metadata": {
  "kernelspec": {
   "display_name": "Python 3",
   "language": "python",
   "name": "python3"
  },
  "language_info": {
   "codemirror_mode": {
    "name": "ipython",
    "version": 3
   },
   "file_extension": ".py",
   "mimetype": "text/x-python",
   "name": "python",
   "nbconvert_exporter": "python",
   "pygments_lexer": "ipython3",
   "version": "3.7.9"
  }
 },
 "nbformat": 4,
 "nbformat_minor": 5
}
