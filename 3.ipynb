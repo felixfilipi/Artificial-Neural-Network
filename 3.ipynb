{
 "cells": [
  {
   "cell_type": "markdown",
   "id": "computational-smooth",
   "metadata": {},
   "source": [
    "<h1 style='font-family:georgia;text-align:center'><i>3. Develop a new model of BPNN capable of tackling a general \n",
    "    digit recognition task </i></h1>"
   ]
  },
  {
   "cell_type": "markdown",
   "id": "middle-waste",
   "metadata": {},
   "source": [
    "<h2 style='font-family:georgia'>Import Library</h2>"
   ]
  },
  {
   "cell_type": "code",
   "execution_count": 1,
   "id": "latter-coordinate",
   "metadata": {},
   "outputs": [],
   "source": [
    "#2301877590 - Felix Filipi \n",
    "#UAS NOMOR 3\n",
    "#Import libraries\n",
    "import tensorflow as tf\n",
    "import numpy as np\n",
    "import seaborn as sns\n",
    "import pandas as pd\n",
    "import matplotlib.pyplot as plt\n",
    "from sklearn.datasets import load_digits"
   ]
  },
  {
   "cell_type": "markdown",
   "id": "reduced-cleveland",
   "metadata": {},
   "source": [
    "<h2 style='font-family:georgia'>Load Data</h2>"
   ]
  },
  {
   "cell_type": "code",
   "execution_count": 2,
   "id": "union-novelty",
   "metadata": {},
   "outputs": [],
   "source": [
    "#load_digits\n",
    "ds=load_digits()\n",
    "attribute=ds.data #define attribute\n",
    "label=ds.target #define target"
   ]
  },
  {
   "cell_type": "code",
   "execution_count": 3,
   "id": "active-separation",
   "metadata": {},
   "outputs": [
    {
     "data": {
      "text/plain": [
       "(1797,)"
      ]
     },
     "execution_count": 3,
     "metadata": {},
     "output_type": "execute_result"
    }
   ],
   "source": [
    "label.shape"
   ]
  },
  {
   "cell_type": "markdown",
   "id": "practical-namibia",
   "metadata": {},
   "source": [
    "<h2 style='font-family:georgia'>Split train & test</h2>"
   ]
  },
  {
   "cell_type": "code",
   "execution_count": 4,
   "id": "hawaiian-finger",
   "metadata": {},
   "outputs": [],
   "source": [
    "#split training 0.8 & test 0.2\n",
    "from sklearn.model_selection import train_test_split\n",
    "X_train,X_test,y_train,y_test=train_test_split(attribute,label,test_size=0.2,random_state=42)"
   ]
  },
  {
   "cell_type": "code",
   "execution_count": 5,
   "id": "supposed-platinum",
   "metadata": {},
   "outputs": [],
   "source": [
    "#every pixel have a value 0 to 255, so we should normalize by divide with 255\n",
    "X_train = X_train / 255.0\n",
    "X_test = X_test / 255.0"
   ]
  },
  {
   "cell_type": "code",
   "execution_count": 6,
   "id": "vietnamese-individual",
   "metadata": {},
   "outputs": [
    {
     "data": {
      "text/plain": [
       "(1437, 64)"
      ]
     },
     "execution_count": 6,
     "metadata": {},
     "output_type": "execute_result"
    }
   ],
   "source": [
    "#check shape, so we can define input_shape\n",
    "X_train.shape"
   ]
  },
  {
   "cell_type": "markdown",
   "id": "decent-working",
   "metadata": {},
   "source": [
    "<h2 style='font-family:georgia'>Model</h2>"
   ]
  },
  {
   "cell_type": "code",
   "execution_count": 7,
   "id": "ordinary-celebrity",
   "metadata": {
    "scrolled": true
   },
   "outputs": [
    {
     "name": "stdout",
     "output_type": "stream",
     "text": [
      "WARNING:tensorflow:From C:\\Users\\User\\anaconda3\\envs\\tensorflow\\lib\\site-packages\\tensorflow_core\\python\\ops\\resource_variable_ops.py:1630: calling BaseResourceVariable.__init__ (from tensorflow.python.ops.resource_variable_ops) with constraint is deprecated and will be removed in a future version.\n",
      "Instructions for updating:\n",
      "If using Keras pass *_constraint arguments to layers.\n",
      "Train on 1149 samples, validate on 288 samples\n",
      "Epoch 1/50\n",
      "1149/1149 [==============================] - 3s 3ms/sample - loss: 2.3000 - acc: 0.1253 - val_loss: 2.2957 - val_acc: 0.2014\n",
      "Epoch 2/50\n",
      "1149/1149 [==============================] - 0s 157us/sample - loss: 2.2861 - acc: 0.2411 - val_loss: 2.2770 - val_acc: 0.2326\n",
      "Epoch 3/50\n",
      "1149/1149 [==============================] - 0s 160us/sample - loss: 2.2538 - acc: 0.2646 - val_loss: 2.2264 - val_acc: 0.2986\n",
      "Epoch 4/50\n",
      "1149/1149 [==============================] - 0s 152us/sample - loss: 2.1822 - acc: 0.2959 - val_loss: 2.1200 - val_acc: 0.2431\n",
      "Epoch 5/50\n",
      "1149/1149 [==============================] - 0s 151us/sample - loss: 2.0556 - acc: 0.2681 - val_loss: 1.9600 - val_acc: 0.3056\n",
      "Epoch 6/50\n",
      "1149/1149 [==============================] - 0s 151us/sample - loss: 1.8965 - acc: 0.3525 - val_loss: 1.7847 - val_acc: 0.4028\n",
      "Epoch 7/50\n",
      "1149/1149 [==============================] - 0s 158us/sample - loss: 1.7444 - acc: 0.4273 - val_loss: 1.6305 - val_acc: 0.4653\n",
      "Epoch 8/50\n",
      "1149/1149 [==============================] - 0s 158us/sample - loss: 1.6057 - acc: 0.5022 - val_loss: 1.5021 - val_acc: 0.5556\n",
      "Epoch 9/50\n",
      "1149/1149 [==============================] - 0s 153us/sample - loss: 1.4794 - acc: 0.5553 - val_loss: 1.3886 - val_acc: 0.6007\n",
      "Epoch 10/50\n",
      "1149/1149 [==============================] - 0s 151us/sample - loss: 1.3621 - acc: 0.6284 - val_loss: 1.2675 - val_acc: 0.6458\n",
      "Epoch 11/50\n",
      "1149/1149 [==============================] - 0s 150us/sample - loss: 1.2538 - acc: 0.6614 - val_loss: 1.1779 - val_acc: 0.6840\n",
      "Epoch 12/50\n",
      "1149/1149 [==============================] - 0s 163us/sample - loss: 1.1530 - acc: 0.7015 - val_loss: 1.1040 - val_acc: 0.6840\n",
      "Epoch 13/50\n",
      "1149/1149 [==============================] - 0s 153us/sample - loss: 1.0649 - acc: 0.7111 - val_loss: 1.0324 - val_acc: 0.7396\n",
      "Epoch 14/50\n",
      "1149/1149 [==============================] - 0s 148us/sample - loss: 0.9896 - acc: 0.7258 - val_loss: 0.9819 - val_acc: 0.7292\n",
      "Epoch 15/50\n",
      "1149/1149 [==============================] - 0s 160us/sample - loss: 0.9188 - acc: 0.7467 - val_loss: 0.9247 - val_acc: 0.7812\n",
      "Epoch 16/50\n",
      "1149/1149 [==============================] - 0s 155us/sample - loss: 0.8665 - acc: 0.7563 - val_loss: 0.8940 - val_acc: 0.7639\n",
      "Epoch 17/50\n",
      "1149/1149 [==============================] - 0s 152us/sample - loss: 0.8179 - acc: 0.7615 - val_loss: 0.8591 - val_acc: 0.7743\n",
      "Epoch 18/50\n",
      "1149/1149 [==============================] - 0s 165us/sample - loss: 0.7712 - acc: 0.7781 - val_loss: 0.8313 - val_acc: 0.7882\n",
      "Epoch 19/50\n",
      "1149/1149 [==============================] - 0s 156us/sample - loss: 0.7372 - acc: 0.7850 - val_loss: 0.8152 - val_acc: 0.7708\n",
      "Epoch 20/50\n",
      "1149/1149 [==============================] - 0s 175us/sample - loss: 0.7021 - acc: 0.7946 - val_loss: 0.8046 - val_acc: 0.7674\n",
      "Epoch 21/50\n",
      "1149/1149 [==============================] - 0s 158us/sample - loss: 0.6736 - acc: 0.8068 - val_loss: 0.7681 - val_acc: 0.7812\n",
      "Epoch 22/50\n",
      "1149/1149 [==============================] - 0s 155us/sample - loss: 0.6492 - acc: 0.8024 - val_loss: 0.7538 - val_acc: 0.7847\n",
      "Epoch 23/50\n",
      "1149/1149 [==============================] - 0s 162us/sample - loss: 0.6217 - acc: 0.8190 - val_loss: 0.7285 - val_acc: 0.8021\n",
      "Epoch 24/50\n",
      "1149/1149 [==============================] - 0s 155us/sample - loss: 0.6033 - acc: 0.8120 - val_loss: 0.7175 - val_acc: 0.8125\n",
      "Epoch 25/50\n",
      "1149/1149 [==============================] - 0s 158us/sample - loss: 0.5825 - acc: 0.8364 - val_loss: 0.7005 - val_acc: 0.8090\n",
      "Epoch 26/50\n",
      "1149/1149 [==============================] - 0s 152us/sample - loss: 0.5622 - acc: 0.8364 - val_loss: 0.6901 - val_acc: 0.8125\n",
      "Epoch 27/50\n",
      "1149/1149 [==============================] - 0s 150us/sample - loss: 0.5495 - acc: 0.8338 - val_loss: 0.6752 - val_acc: 0.8299\n",
      "Epoch 28/50\n",
      "1149/1149 [==============================] - 0s 161us/sample - loss: 0.5324 - acc: 0.8390 - val_loss: 0.6657 - val_acc: 0.8403\n",
      "Epoch 29/50\n",
      "1149/1149 [==============================] - 0s 155us/sample - loss: 0.5207 - acc: 0.8468 - val_loss: 0.6604 - val_acc: 0.8368\n",
      "Epoch 30/50\n",
      "1149/1149 [==============================] - 0s 153us/sample - loss: 0.5074 - acc: 0.8503 - val_loss: 0.6488 - val_acc: 0.8507\n",
      "Epoch 31/50\n",
      "1149/1149 [==============================] - 0s 159us/sample - loss: 0.5018 - acc: 0.8477 - val_loss: 0.6486 - val_acc: 0.8299\n",
      "Epoch 32/50\n",
      "1149/1149 [==============================] - 0s 155us/sample - loss: 0.4841 - acc: 0.8625 - val_loss: 0.6332 - val_acc: 0.8438\n",
      "Epoch 33/50\n",
      "1149/1149 [==============================] - 0s 151us/sample - loss: 0.4748 - acc: 0.8581 - val_loss: 0.6181 - val_acc: 0.8576\n",
      "Epoch 34/50\n",
      "1149/1149 [==============================] - 0s 163us/sample - loss: 0.4692 - acc: 0.8642 - val_loss: 0.6107 - val_acc: 0.8611\n",
      "Epoch 35/50\n",
      "1149/1149 [==============================] - 0s 154us/sample - loss: 0.4638 - acc: 0.8616 - val_loss: 0.6130 - val_acc: 0.8681\n",
      "Epoch 36/50\n",
      "1149/1149 [==============================] - 0s 151us/sample - loss: 0.4556 - acc: 0.8625 - val_loss: 0.6068 - val_acc: 0.8681\n",
      "Epoch 37/50\n",
      "1149/1149 [==============================] - 0s 153us/sample - loss: 0.4493 - acc: 0.8651 - val_loss: 0.5931 - val_acc: 0.8507\n",
      "Epoch 38/50\n",
      "1149/1149 [==============================] - 0s 151us/sample - loss: 0.4352 - acc: 0.8729 - val_loss: 0.5855 - val_acc: 0.8715\n",
      "Epoch 39/50\n",
      "1149/1149 [==============================] - 0s 154us/sample - loss: 0.4284 - acc: 0.8695 - val_loss: 0.5866 - val_acc: 0.8646\n",
      "Epoch 40/50\n",
      "1149/1149 [==============================] - 0s 158us/sample - loss: 0.4182 - acc: 0.8799 - val_loss: 0.5818 - val_acc: 0.8576\n",
      "Epoch 41/50\n",
      "1149/1149 [==============================] - 0s 155us/sample - loss: 0.4079 - acc: 0.8808 - val_loss: 0.5762 - val_acc: 0.8611\n",
      "Epoch 42/50\n",
      "1149/1149 [==============================] - 0s 154us/sample - loss: 0.4030 - acc: 0.8842 - val_loss: 0.5665 - val_acc: 0.8715\n",
      "Epoch 43/50\n",
      "1149/1149 [==============================] - 0s 154us/sample - loss: 0.3965 - acc: 0.8860 - val_loss: 0.5635 - val_acc: 0.8542\n",
      "Epoch 44/50\n",
      "1149/1149 [==============================] - 0s 154us/sample - loss: 0.3952 - acc: 0.8834 - val_loss: 0.5557 - val_acc: 0.8611\n",
      "Epoch 45/50\n",
      "1149/1149 [==============================] - 0s 151us/sample - loss: 0.3888 - acc: 0.8860 - val_loss: 0.5544 - val_acc: 0.8576\n",
      "Epoch 46/50\n",
      "1149/1149 [==============================] - 0s 151us/sample - loss: 0.3831 - acc: 0.8869 - val_loss: 0.5464 - val_acc: 0.8611\n",
      "Epoch 47/50\n",
      "1149/1149 [==============================] - 0s 155us/sample - loss: 0.3825 - acc: 0.8903 - val_loss: 0.5546 - val_acc: 0.8403\n",
      "Epoch 48/50\n",
      "1149/1149 [==============================] - 0s 155us/sample - loss: 0.3761 - acc: 0.8834 - val_loss: 0.5413 - val_acc: 0.8542\n",
      "Epoch 49/50\n",
      "1149/1149 [==============================] - 0s 151us/sample - loss: 0.3737 - acc: 0.8903 - val_loss: 0.5336 - val_acc: 0.8576\n",
      "Epoch 50/50\n",
      "1149/1149 [==============================] - 0s 147us/sample - loss: 0.3645 - acc: 0.8956 - val_loss: 0.5388 - val_acc: 0.8542\n"
     ]
    }
   ],
   "source": [
    "#Build MLP model\n",
    "model=tf.keras.models.Sequential([\n",
    "    tf.keras.layers.Dense(10, input_shape=(64,),activation='relu'), #input layer\n",
    "    tf.keras.layers.Dense(20, activation='relu'), #1th hidden layer\n",
    "    tf.keras.layers.Dense(20, activation='relu'), #2nd hidden layer\n",
    "    tf.keras.layers.Dense(10, activation='softmax') #output layer\n",
    "])\n",
    "#multi target, then use sparse_categorical_crossentropy\n",
    "model.compile(loss='sparse_categorical_crossentropy', optimizer='adam', metrics=['accuracy'])\n",
    "history=model.fit(X_train,y_train,epochs=50,validation_split=0.2) "
   ]
  },
  {
   "cell_type": "markdown",
   "id": "satisfactory-transcript",
   "metadata": {},
   "source": [
    "<h2 style='font-family:georgia'>Training & Validation Accuracy Curves</h2>"
   ]
  },
  {
   "cell_type": "code",
   "execution_count": 8,
   "id": "blank-governor",
   "metadata": {},
   "outputs": [
    {
     "data": {
      "image/png": "[encoded data removed]",
      "text/plain": [
       "<Figure size 432x288 with 1 Axes>"
      ]
     },
     "metadata": {
      "needs_background": "light"
     },
     "output_type": "display_data"
    }
   ],
   "source": [
    "#training and validation accuracy curves\n",
    "epochs = range(1, len(history.history['acc'])+1)\n",
    "plt.plot(epochs,history.history['acc'],history.history['val_acc'])\n",
    "plt.title('Training & validation accuracy curves')\n",
    "plt.ylabel('accuracy')\n",
    "plt.xlabel('epoch')\n",
    "plt.legend(['training', 'validation'])\n",
    "plt.show()"
   ]
  },
  {
   "cell_type": "markdown",
   "id": "productive-johns",
   "metadata": {},
   "source": [
    "<h2 style='font-family:georgia'>Evaluate</h2>"
   ]
  },
  {
   "cell_type": "code",
   "execution_count": 9,
   "id": "nervous-mainstream",
   "metadata": {},
   "outputs": [
    {
     "name": "stdout",
     "output_type": "stream",
     "text": [
      "360/360 [==============================] - 0s 111us/sample - loss: 0.4286 - acc: 0.8667\n",
      "Accuracy: 86.67%\n"
     ]
    }
   ],
   "source": [
    "#testing\n",
    "_, accuracy = model.evaluate(X_test, y_test) \n",
    "print('Accuracy: %.2f%%' % (accuracy*100)) #testing accuracy"
   ]
  },
  {
   "cell_type": "code",
   "execution_count": 10,
   "id": "tough-cookie",
   "metadata": {
    "scrolled": true
   },
   "outputs": [
    {
     "name": "stdout",
     "output_type": "stream",
     "text": [
      "[0.         0.         0.         0.02745098 0.04705882 0.\n",
      " 0.         0.         0.         0.         0.01568627 0.0627451\n",
      " 0.03137255 0.         0.         0.         0.         0.\n",
      " 0.04705882 0.04313725 0.         0.         0.         0.\n",
      " 0.         0.         0.05882353 0.03921569 0.03137255 0.02352941\n",
      " 0.00392157 0.         0.         0.         0.05882353 0.0627451\n",
      " 0.03137255 0.03921569 0.03137255 0.         0.         0.\n",
      " 0.05490196 0.02745098 0.         0.         0.04705882 0.\n",
      " 0.         0.         0.03137255 0.04313725 0.         0.01960784\n",
      " 0.0627451  0.00784314 0.         0.         0.         0.03529412\n",
      " 0.05490196 0.05490196 0.01960784 0.        ] => 6 (expected 6)\n",
      "[0.         0.         0.04313725 0.0627451  0.03137255 0.\n",
      " 0.         0.         0.         0.02352941 0.0627451  0.04313725\n",
      " 0.05098039 0.03529412 0.         0.         0.         0.02745098\n",
      " 0.0627451  0.         0.03529412 0.0627451  0.         0.\n",
      " 0.         0.00784314 0.05882353 0.04705882 0.0627451  0.0627451\n",
      " 0.01176471 0.         0.         0.         0.01960784 0.02745098\n",
      " 0.02745098 0.0627451  0.01568627 0.         0.         0.\n",
      " 0.         0.         0.01960784 0.0627451  0.01960784 0.\n",
      " 0.         0.         0.01176471 0.02745098 0.0627451  0.04313725\n",
      " 0.         0.         0.         0.         0.05098039 0.0627451\n",
      " 0.04313725 0.00392157 0.         0.        ] => 9 (expected 9)\n",
      "[0.         0.         0.03137255 0.05882353 0.04705882 0.01568627\n",
      " 0.         0.         0.         0.01960784 0.05490196 0.01568627\n",
      " 0.04313725 0.02745098 0.         0.         0.         0.\n",
      " 0.         0.00392157 0.05490196 0.01176471 0.         0.\n",
      " 0.         0.         0.00784314 0.05882353 0.05490196 0.00392157\n",
      " 0.         0.         0.         0.         0.         0.03137255\n",
      " 0.05098039 0.04313725 0.         0.         0.         0.\n",
      " 0.         0.         0.         0.05098039 0.01960784 0.\n",
      " 0.         0.         0.04705882 0.00784314 0.01176471 0.04705882\n",
      " 0.02745098 0.         0.         0.         0.05098039 0.0627451\n",
      " 0.05882353 0.03137255 0.         0.        ] => 3 (expected 3)\n",
      "[0.         0.         0.00784314 0.04705882 0.04705882 0.04705882\n",
      " 0.03529412 0.00784314 0.         0.         0.03529412 0.05882353\n",
      " 0.04705882 0.05098039 0.0627451  0.01960784 0.         0.\n",
      " 0.04705882 0.03137255 0.         0.03137255 0.03921569 0.\n",
      " 0.         0.00392157 0.0627451  0.01176471 0.01176471 0.05882353\n",
      " 0.00784314 0.         0.         0.00392157 0.01176471 0.\n",
      " 0.04705882 0.02745098 0.         0.         0.         0.\n",
      " 0.         0.01568627 0.05098039 0.         0.         0.\n",
      " 0.         0.         0.         0.05098039 0.03529412 0.\n",
      " 0.         0.         0.         0.         0.01176471 0.05882353\n",
      " 0.01176471 0.         0.         0.        ] => 7 (expected 7)\n",
      "[0.         0.00784314 0.05098039 0.0627451  0.03921569 0.\n",
      " 0.         0.         0.         0.02352941 0.05098039 0.03921569\n",
      " 0.0627451  0.         0.         0.         0.         0.\n",
      " 0.         0.03137255 0.05490196 0.         0.         0.\n",
      " 0.         0.         0.00392157 0.05490196 0.03529412 0.\n",
      " 0.         0.         0.         0.         0.03529412 0.05490196\n",
      " 0.00392157 0.         0.         0.         0.         0.00392157\n",
      " 0.05490196 0.02745098 0.         0.         0.00392157 0.\n",
      " 0.         0.01568627 0.0627451  0.01960784 0.02745098 0.04705882\n",
      " 0.05490196 0.         0.         0.01176471 0.05882353 0.0627451\n",
      " 0.0627451  0.03921569 0.00392157 0.        ] => 2 (expected 2)\n"
     ]
    }
   ],
   "source": [
    "# make class predictions with the model\n",
    "predictions = model.predict_classes(X_test)\n",
    "# summarize the first 5 cases\n",
    "for i in range(5):\n",
    "    print('%s => %d (expected %d)' % (X_test[i], y_test[i], predictions[i]))"
   ]
  },
  {
   "cell_type": "markdown",
   "id": "statutory-titanium",
   "metadata": {},
   "source": [
    "<h2 style='font-family:georgia'>Performance analysis (Confusion Matrix)</h2>"
   ]
  },
  {
   "cell_type": "code",
   "execution_count": 11,
   "id": "specified-bearing",
   "metadata": {},
   "outputs": [
    {
     "data": {
      "image/png": "[encoded data removed]",
      "text/plain": [
       "<Figure size 432x288 with 2 Axes>"
      ]
     },
     "metadata": {
      "needs_background": "light"
     },
     "output_type": "display_data"
    }
   ],
   "source": [
    "#confusion matrix\n",
    "confusion_matrix = pd.crosstab(y_test, predictions, rownames=['Actual'], colnames=['Predicted'])\n",
    "sns.heatmap(confusion_matrix, annot=True)\n",
    "plt.show()"
   ]
  }
 ],
 "metadata": {
  "kernelspec": {
   "display_name": "Python 3",
   "language": "python",
   "name": "python3"
  },
  "language_info": {
   "codemirror_mode": {
    "name": "ipython",
    "version": 3
   },
   "file_extension": ".py",
   "mimetype": "text/x-python",
   "name": "python",
   "nbconvert_exporter": "python",
   "pygments_lexer": "ipython3",
   "version": "3.7.9"
  }
 },
 "nbformat": 4,
 "nbformat_minor": 5
}
