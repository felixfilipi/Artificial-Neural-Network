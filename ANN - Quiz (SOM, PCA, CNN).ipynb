{
 "cells": [
  {
   "cell_type": "markdown",
   "id": "mediterranean-mistake",
   "metadata": {},
   "source": [
    "<h1 style=\"text-align:center;font-family:raleway\">Quiz ANN</h1>\n",
    "<h3 style=\"text-align:center;font-family:raleway\">Felix Filipi-2301877590</h3>\n",
    "<h2 style=\"text-align:center;font-family:raleway\">Self Organizing Map (SOM)</h2>"
   ]
  },
  {
   "cell_type": "markdown",
   "id": "pretty-bangladesh",
   "metadata": {},
   "source": [
    "<h2 style='font-family:raleway'>1A)\tCalculate which of the six output nodes in the winner in the input pattern is X = (2, -4)"
   ]
  },
  {
   "cell_type": "markdown",
   "id": "analyzed-scene",
   "metadata": {},
   "source": [
    "Using Euclidean distance:"
   ]
  },
  {
   "cell_type": "markdown",
   "id": "fifteen-roller",
   "metadata": {},
   "source": [
    "<h3 style=\"text-align:center\">$ d(x,w)=\\sqrt{|x_1-w_1|^2+|x_2-w_2|^2} $"
   ]
  },
  {
   "cell_type": "markdown",
   "id": "arabic-genome",
   "metadata": {},
   "source": [
    "Calculate each node:"
   ]
  },
  {
   "cell_type": "markdown",
   "id": "great-intersection",
   "metadata": {},
   "source": [
    "<h3 style=\"text-align:center\">$ d(x,w_A)=\\sqrt{|2+1|^2+|-4-2|^2}=\\sqrt{9+36}=\\sqrt{45} $"
   ]
  },
  {
   "cell_type": "markdown",
   "id": "latin-chester",
   "metadata": {},
   "source": [
    "<h3 style=\"text-align:center\">$ d(x,w_B)=\\sqrt{|2-0|^2+|-4-4|^2}=\\sqrt{4+64}=\\sqrt{68} $"
   ]
  },
  {
   "cell_type": "markdown",
   "id": "confirmed-bandwidth",
   "metadata": {},
   "source": [
    "<h3 style=\"text-align:center\">$ d(x,w_C)=\\sqrt{|2-3|^2+|-4+2|^2}=\\sqrt{1+4}=\\sqrt{5} $"
   ]
  },
  {
   "cell_type": "markdown",
   "id": "proprietary-couple",
   "metadata": {},
   "source": [
    "<h3 style=\"text-align:center\">$ d(x,w_D)=\\sqrt{|2+2|^2+|-4+3|^2}=\\sqrt{16+1}=\\sqrt{17} $"
   ]
  },
  {
   "cell_type": "markdown",
   "id": "trying-television",
   "metadata": {},
   "source": [
    "<h3 style=\"text-align:center\">$ d(x,w_E)=\\sqrt{|2-3|^2+|-4-2|^2}=\\sqrt{1+36}=\\sqrt{37} $"
   ]
  },
  {
   "cell_type": "markdown",
   "id": "gorgeous-subject",
   "metadata": {},
   "source": [
    "<h3 style=\"text-align:center\">$ d(x,w_F)=\\sqrt{|2-4|^2+|-4+1|^2}=\\sqrt{4+9}=\\sqrt{13} $"
   ]
  },
  {
   "cell_type": "markdown",
   "id": "thirty-latter",
   "metadata": {},
   "source": [
    "<h3 style=font-family:raleway>The winner is node C with $\\sqrt{5}$ as the smallest distance</h3> "
   ]
  },
  {
   "cell_type": "markdown",
   "id": "closed-landing",
   "metadata": {},
   "source": [
    "<h2 style='font-family:raleway'>B)\tAdjust the weights in the SOM."
   ]
  },
  {
   "cell_type": "markdown",
   "id": "flexible-headline",
   "metadata": {},
   "source": [
    "The weights adjusted using formula:"
   ]
  },
  {
   "cell_type": "markdown",
   "id": "owned-worse",
   "metadata": {},
   "source": [
    "<h3 style=\"text-align:center\">$ w'=w+\\alpha h[x-w] $"
   ]
  },
  {
   "cell_type": "markdown",
   "id": "included-excitement",
   "metadata": {},
   "source": [
    "The weights Node C:"
   ]
  },
  {
   "cell_type": "markdown",
   "id": "settled-massage",
   "metadata": {},
   "source": [
    "<h3 style=\"text-align:center\">$ w_C'=w_C+\\alpha h[x-w_C] $"
   ]
  },
  {
   "cell_type": "markdown",
   "id": "written-maria",
   "metadata": {},
   "source": [
    "<h3 style=\"text-align:center\"> $ w_{C'}= \\begin{bmatrix}3\\\\-2\\end{bmatrix} + 0.5\\times1\\times \\begin{bmatrix}2\\\\-4\\end{bmatrix}-\\begin{bmatrix}3\\\\-2\\end{bmatrix}$"
   ]
  },
  {
   "cell_type": "markdown",
   "id": "pressed-technique",
   "metadata": {},
   "source": [
    "<h3 style=\"text-align:center\"> $ w_{C'}= \\begin{bmatrix}3\\\\-2\\end{bmatrix} + \\begin{bmatrix}-0.5\\\\-1\\end{bmatrix}=\\begin{bmatrix}2.5\\\\-3\\end{bmatrix}$"
   ]
  },
  {
   "cell_type": "markdown",
   "id": "interested-bicycle",
   "metadata": {},
   "source": [
    "The neighbour of Node C which is B & D have $h$ = 0.5"
   ]
  },
  {
   "cell_type": "markdown",
   "id": "juvenile-times",
   "metadata": {},
   "source": [
    "<h3 style=\"text-align:center\"> $ w_{B'}= \\begin{bmatrix}0\\\\4\\end{bmatrix} + 0.5\\times0.5\\times \\bigg(\\begin{bmatrix}2\\\\-4\\end{bmatrix}-\\begin{bmatrix}0\\\\-4\\end{bmatrix}\\bigg)=\\begin{bmatrix}0.5\\\\2\\end{bmatrix}$"
   ]
  },
  {
   "cell_type": "markdown",
   "id": "undefined-mediterranean",
   "metadata": {},
   "source": [
    "<h3 style=\"text-align:center\"> $ w_{D'}= \\begin{bmatrix}-2\\\\-3\\end{bmatrix} + 0.5\\times0.5\\times \\bigg(\\begin{bmatrix}2\\\\-4\\end{bmatrix}-\\begin{bmatrix}-2\\\\-3\\end{bmatrix}\\bigg)=\\begin{bmatrix}-1\\\\-3.25\\end{bmatrix}$"
   ]
  },
  {
   "cell_type": "markdown",
   "id": "confidential-teddy",
   "metadata": {},
   "source": [
    "<h3 style=font-family:raleway>The other nodes have neighbourhood h = 0. So, their\n",
    "weights do not change.</h3> "
   ]
  },
  {
   "cell_type": "markdown",
   "id": "smart-proof",
   "metadata": {},
   "source": [
    "<h2 style='font-family:raleway'>C)\tWhat are the main similarities and differences between feed–forward neural\n",
    "networks and self–organising maps?"
   ]
  },
  {
   "cell_type": "markdown",
   "id": "difficult-archive",
   "metadata": {},
   "source": [
    "<h3 style=font-family:raleway>Similarities:</h3> \n",
    "<br>• Both architecture basicaly feed–forward networks.\n",
    "<br>• Both architecture's networks need to be trained\n",
    "<br>• Each Nodes in both architectures have its own weights which is corresponding to each link."
   ]
  },
  {
   "cell_type": "markdown",
   "id": "serial-voltage",
   "metadata": {},
   "source": [
    "<h3 style=font-family:raleway>Differences:</h3> \n",
    "<br>• Self–organising maps only use single output layer, and don't have any hidden layers\n",
    "<br>• In Feed–forward neural networks (FFNN) each output are result, while the result of SOM are the winner of the output.\n",
    "<br>• FFNN need to calculate the sum of nodes's weight. But SOM only compared with the input using Euclidean distance\n",
    "<br>• FFNN are defined by the activation functions. But SOM nodes do not have any activation functions"
   ]
  },
  {
   "cell_type": "markdown",
   "id": "chief-police",
   "metadata": {},
   "source": [
    "<h2 style='font-family:raleway'>2)\tImplement (in python notebook please) PCA based dimensionality reduction for wine datasets obtained from url: https://archive.ics.uci.edu/ml/datasets/wine. Reduce the dimensionality from 13 to 2 (PC1 and PC2) and plot the new datasets after feature extraction"
   ]
  },
  {
   "cell_type": "markdown",
   "id": "complete-alberta",
   "metadata": {},
   "source": [
    "Import data"
   ]
  },
  {
   "cell_type": "code",
   "execution_count": 1,
   "id": "isolated-colombia",
   "metadata": {},
   "outputs": [
    {
     "data": {
      "text/html": [
       "<div>\n",
       "<style scoped>\n",
       "    .dataframe tbody tr th:only-of-type {\n",
       "        vertical-align: middle;\n",
       "    }\n",
       "\n",
       "    .dataframe tbody tr th {\n",
       "        vertical-align: top;\n",
       "    }\n",
       "\n",
       "    .dataframe thead th {\n",
       "        text-align: right;\n",
       "    }\n",
       "</style>\n",
       "<table border=\"1\" class=\"dataframe\">\n",
       "  <thead>\n",
       "    <tr style=\"text-align: right;\">\n",
       "      <th></th>\n",
       "      <th>Wine</th>\n",
       "      <th>Alcohol</th>\n",
       "      <th>Malic.acid</th>\n",
       "      <th>Ash</th>\n",
       "      <th>Acl</th>\n",
       "      <th>Mg</th>\n",
       "      <th>Phenols</th>\n",
       "      <th>Flavanoids</th>\n",
       "      <th>Nonflavanoid.phenols</th>\n",
       "      <th>Proanth</th>\n",
       "      <th>Color.int</th>\n",
       "      <th>Hue</th>\n",
       "      <th>OD</th>\n",
       "      <th>Proline</th>\n",
       "    </tr>\n",
       "  </thead>\n",
       "  <tbody>\n",
       "    <tr>\n",
       "      <th>0</th>\n",
       "      <td>1</td>\n",
       "      <td>14.23</td>\n",
       "      <td>1.71</td>\n",
       "      <td>2.43</td>\n",
       "      <td>15.6</td>\n",
       "      <td>127</td>\n",
       "      <td>2.80</td>\n",
       "      <td>3.06</td>\n",
       "      <td>0.28</td>\n",
       "      <td>2.29</td>\n",
       "      <td>5.64</td>\n",
       "      <td>1.04</td>\n",
       "      <td>3.92</td>\n",
       "      <td>1065</td>\n",
       "    </tr>\n",
       "    <tr>\n",
       "      <th>1</th>\n",
       "      <td>1</td>\n",
       "      <td>13.20</td>\n",
       "      <td>1.78</td>\n",
       "      <td>2.14</td>\n",
       "      <td>11.2</td>\n",
       "      <td>100</td>\n",
       "      <td>2.65</td>\n",
       "      <td>2.76</td>\n",
       "      <td>0.26</td>\n",
       "      <td>1.28</td>\n",
       "      <td>4.38</td>\n",
       "      <td>1.05</td>\n",
       "      <td>3.40</td>\n",
       "      <td>1050</td>\n",
       "    </tr>\n",
       "    <tr>\n",
       "      <th>2</th>\n",
       "      <td>1</td>\n",
       "      <td>13.16</td>\n",
       "      <td>2.36</td>\n",
       "      <td>2.67</td>\n",
       "      <td>18.6</td>\n",
       "      <td>101</td>\n",
       "      <td>2.80</td>\n",
       "      <td>3.24</td>\n",
       "      <td>0.30</td>\n",
       "      <td>2.81</td>\n",
       "      <td>5.68</td>\n",
       "      <td>1.03</td>\n",
       "      <td>3.17</td>\n",
       "      <td>1185</td>\n",
       "    </tr>\n",
       "    <tr>\n",
       "      <th>3</th>\n",
       "      <td>1</td>\n",
       "      <td>14.37</td>\n",
       "      <td>1.95</td>\n",
       "      <td>2.50</td>\n",
       "      <td>16.8</td>\n",
       "      <td>113</td>\n",
       "      <td>3.85</td>\n",
       "      <td>3.49</td>\n",
       "      <td>0.24</td>\n",
       "      <td>2.18</td>\n",
       "      <td>7.80</td>\n",
       "      <td>0.86</td>\n",
       "      <td>3.45</td>\n",
       "      <td>1480</td>\n",
       "    </tr>\n",
       "    <tr>\n",
       "      <th>4</th>\n",
       "      <td>1</td>\n",
       "      <td>13.24</td>\n",
       "      <td>2.59</td>\n",
       "      <td>2.87</td>\n",
       "      <td>21.0</td>\n",
       "      <td>118</td>\n",
       "      <td>2.80</td>\n",
       "      <td>2.69</td>\n",
       "      <td>0.39</td>\n",
       "      <td>1.82</td>\n",
       "      <td>4.32</td>\n",
       "      <td>1.04</td>\n",
       "      <td>2.93</td>\n",
       "      <td>735</td>\n",
       "    </tr>\n",
       "    <tr>\n",
       "      <th>...</th>\n",
       "      <td>...</td>\n",
       "      <td>...</td>\n",
       "      <td>...</td>\n",
       "      <td>...</td>\n",
       "      <td>...</td>\n",
       "      <td>...</td>\n",
       "      <td>...</td>\n",
       "      <td>...</td>\n",
       "      <td>...</td>\n",
       "      <td>...</td>\n",
       "      <td>...</td>\n",
       "      <td>...</td>\n",
       "      <td>...</td>\n",
       "      <td>...</td>\n",
       "    </tr>\n",
       "    <tr>\n",
       "      <th>173</th>\n",
       "      <td>3</td>\n",
       "      <td>13.71</td>\n",
       "      <td>5.65</td>\n",
       "      <td>2.45</td>\n",
       "      <td>20.5</td>\n",
       "      <td>95</td>\n",
       "      <td>1.68</td>\n",
       "      <td>0.61</td>\n",
       "      <td>0.52</td>\n",
       "      <td>1.06</td>\n",
       "      <td>7.70</td>\n",
       "      <td>0.64</td>\n",
       "      <td>1.74</td>\n",
       "      <td>740</td>\n",
       "    </tr>\n",
       "    <tr>\n",
       "      <th>174</th>\n",
       "      <td>3</td>\n",
       "      <td>13.40</td>\n",
       "      <td>3.91</td>\n",
       "      <td>2.48</td>\n",
       "      <td>23.0</td>\n",
       "      <td>102</td>\n",
       "      <td>1.80</td>\n",
       "      <td>0.75</td>\n",
       "      <td>0.43</td>\n",
       "      <td>1.41</td>\n",
       "      <td>7.30</td>\n",
       "      <td>0.70</td>\n",
       "      <td>1.56</td>\n",
       "      <td>750</td>\n",
       "    </tr>\n",
       "    <tr>\n",
       "      <th>175</th>\n",
       "      <td>3</td>\n",
       "      <td>13.27</td>\n",
       "      <td>4.28</td>\n",
       "      <td>2.26</td>\n",
       "      <td>20.0</td>\n",
       "      <td>120</td>\n",
       "      <td>1.59</td>\n",
       "      <td>0.69</td>\n",
       "      <td>0.43</td>\n",
       "      <td>1.35</td>\n",
       "      <td>10.20</td>\n",
       "      <td>0.59</td>\n",
       "      <td>1.56</td>\n",
       "      <td>835</td>\n",
       "    </tr>\n",
       "    <tr>\n",
       "      <th>176</th>\n",
       "      <td>3</td>\n",
       "      <td>13.17</td>\n",
       "      <td>2.59</td>\n",
       "      <td>2.37</td>\n",
       "      <td>20.0</td>\n",
       "      <td>120</td>\n",
       "      <td>1.65</td>\n",
       "      <td>0.68</td>\n",
       "      <td>0.53</td>\n",
       "      <td>1.46</td>\n",
       "      <td>9.30</td>\n",
       "      <td>0.60</td>\n",
       "      <td>1.62</td>\n",
       "      <td>840</td>\n",
       "    </tr>\n",
       "    <tr>\n",
       "      <th>177</th>\n",
       "      <td>3</td>\n",
       "      <td>14.13</td>\n",
       "      <td>4.10</td>\n",
       "      <td>2.74</td>\n",
       "      <td>24.5</td>\n",
       "      <td>96</td>\n",
       "      <td>2.05</td>\n",
       "      <td>0.76</td>\n",
       "      <td>0.56</td>\n",
       "      <td>1.35</td>\n",
       "      <td>9.20</td>\n",
       "      <td>0.61</td>\n",
       "      <td>1.60</td>\n",
       "      <td>560</td>\n",
       "    </tr>\n",
       "  </tbody>\n",
       "</table>\n",
       "<p>178 rows × 14 columns</p>\n",
       "</div>"
      ],
      "text/plain": [
       "     Wine  Alcohol  Malic.acid   Ash   Acl   Mg  Phenols  Flavanoids  \\\n",
       "0       1    14.23        1.71  2.43  15.6  127     2.80        3.06   \n",
       "1       1    13.20        1.78  2.14  11.2  100     2.65        2.76   \n",
       "2       1    13.16        2.36  2.67  18.6  101     2.80        3.24   \n",
       "3       1    14.37        1.95  2.50  16.8  113     3.85        3.49   \n",
       "4       1    13.24        2.59  2.87  21.0  118     2.80        2.69   \n",
       "..    ...      ...         ...   ...   ...  ...      ...         ...   \n",
       "173     3    13.71        5.65  2.45  20.5   95     1.68        0.61   \n",
       "174     3    13.40        3.91  2.48  23.0  102     1.80        0.75   \n",
       "175     3    13.27        4.28  2.26  20.0  120     1.59        0.69   \n",
       "176     3    13.17        2.59  2.37  20.0  120     1.65        0.68   \n",
       "177     3    14.13        4.10  2.74  24.5   96     2.05        0.76   \n",
       "\n",
       "     Nonflavanoid.phenols  Proanth  Color.int   Hue    OD  Proline  \n",
       "0                    0.28     2.29       5.64  1.04  3.92     1065  \n",
       "1                    0.26     1.28       4.38  1.05  3.40     1050  \n",
       "2                    0.30     2.81       5.68  1.03  3.17     1185  \n",
       "3                    0.24     2.18       7.80  0.86  3.45     1480  \n",
       "4                    0.39     1.82       4.32  1.04  2.93      735  \n",
       "..                    ...      ...        ...   ...   ...      ...  \n",
       "173                  0.52     1.06       7.70  0.64  1.74      740  \n",
       "174                  0.43     1.41       7.30  0.70  1.56      750  \n",
       "175                  0.43     1.35      10.20  0.59  1.56      835  \n",
       "176                  0.53     1.46       9.30  0.60  1.62      840  \n",
       "177                  0.56     1.35       9.20  0.61  1.60      560  \n",
       "\n",
       "[178 rows x 14 columns]"
      ]
     },
     "execution_count": 1,
     "metadata": {},
     "output_type": "execute_result"
    }
   ],
   "source": [
    "import pandas as pd\n",
    "ds=pd.read_csv('datasets/wine.csv')\n",
    "ds"
   ]
  },
  {
   "cell_type": "markdown",
   "id": "joined-liechtenstein",
   "metadata": {},
   "source": [
    "Look the correlation each feature (optional)"
   ]
  },
  {
   "cell_type": "code",
   "execution_count": 2,
   "id": "changed-mexico",
   "metadata": {},
   "outputs": [
    {
     "data": {
      "text/html": [
       "<div>\n",
       "<style scoped>\n",
       "    .dataframe tbody tr th:only-of-type {\n",
       "        vertical-align: middle;\n",
       "    }\n",
       "\n",
       "    .dataframe tbody tr th {\n",
       "        vertical-align: top;\n",
       "    }\n",
       "\n",
       "    .dataframe thead th {\n",
       "        text-align: right;\n",
       "    }\n",
       "</style>\n",
       "<table border=\"1\" class=\"dataframe\">\n",
       "  <thead>\n",
       "    <tr style=\"text-align: right;\">\n",
       "      <th></th>\n",
       "      <th>Wine</th>\n",
       "      <th>Alcohol</th>\n",
       "      <th>Malic.acid</th>\n",
       "      <th>Ash</th>\n",
       "      <th>Acl</th>\n",
       "      <th>Mg</th>\n",
       "      <th>Phenols</th>\n",
       "      <th>Flavanoids</th>\n",
       "      <th>Nonflavanoid.phenols</th>\n",
       "      <th>Proanth</th>\n",
       "      <th>Color.int</th>\n",
       "      <th>Hue</th>\n",
       "      <th>OD</th>\n",
       "      <th>Proline</th>\n",
       "    </tr>\n",
       "  </thead>\n",
       "  <tbody>\n",
       "    <tr>\n",
       "      <th>Wine</th>\n",
       "      <td>1.000000</td>\n",
       "      <td>-0.328222</td>\n",
       "      <td>0.437776</td>\n",
       "      <td>-0.049643</td>\n",
       "      <td>0.517859</td>\n",
       "      <td>-0.209179</td>\n",
       "      <td>-0.719163</td>\n",
       "      <td>-0.847498</td>\n",
       "      <td>0.489109</td>\n",
       "      <td>-0.499130</td>\n",
       "      <td>0.265668</td>\n",
       "      <td>-0.617369</td>\n",
       "      <td>-0.788230</td>\n",
       "      <td>-0.633717</td>\n",
       "    </tr>\n",
       "    <tr>\n",
       "      <th>Alcohol</th>\n",
       "      <td>-0.328222</td>\n",
       "      <td>1.000000</td>\n",
       "      <td>0.094397</td>\n",
       "      <td>0.211545</td>\n",
       "      <td>-0.310235</td>\n",
       "      <td>0.270798</td>\n",
       "      <td>0.289101</td>\n",
       "      <td>0.236815</td>\n",
       "      <td>-0.155929</td>\n",
       "      <td>0.136698</td>\n",
       "      <td>0.546364</td>\n",
       "      <td>-0.071747</td>\n",
       "      <td>0.072343</td>\n",
       "      <td>0.643720</td>\n",
       "    </tr>\n",
       "    <tr>\n",
       "      <th>Malic.acid</th>\n",
       "      <td>0.437776</td>\n",
       "      <td>0.094397</td>\n",
       "      <td>1.000000</td>\n",
       "      <td>0.164045</td>\n",
       "      <td>0.288500</td>\n",
       "      <td>-0.054575</td>\n",
       "      <td>-0.335167</td>\n",
       "      <td>-0.411007</td>\n",
       "      <td>0.292977</td>\n",
       "      <td>-0.220746</td>\n",
       "      <td>0.248985</td>\n",
       "      <td>-0.561296</td>\n",
       "      <td>-0.368710</td>\n",
       "      <td>-0.192011</td>\n",
       "    </tr>\n",
       "    <tr>\n",
       "      <th>Ash</th>\n",
       "      <td>-0.049643</td>\n",
       "      <td>0.211545</td>\n",
       "      <td>0.164045</td>\n",
       "      <td>1.000000</td>\n",
       "      <td>0.443367</td>\n",
       "      <td>0.286587</td>\n",
       "      <td>0.128980</td>\n",
       "      <td>0.115077</td>\n",
       "      <td>0.186230</td>\n",
       "      <td>0.009652</td>\n",
       "      <td>0.258887</td>\n",
       "      <td>-0.074667</td>\n",
       "      <td>0.003911</td>\n",
       "      <td>0.223626</td>\n",
       "    </tr>\n",
       "    <tr>\n",
       "      <th>Acl</th>\n",
       "      <td>0.517859</td>\n",
       "      <td>-0.310235</td>\n",
       "      <td>0.288500</td>\n",
       "      <td>0.443367</td>\n",
       "      <td>1.000000</td>\n",
       "      <td>-0.083333</td>\n",
       "      <td>-0.321113</td>\n",
       "      <td>-0.351370</td>\n",
       "      <td>0.361922</td>\n",
       "      <td>-0.197327</td>\n",
       "      <td>0.018732</td>\n",
       "      <td>-0.273955</td>\n",
       "      <td>-0.276769</td>\n",
       "      <td>-0.440597</td>\n",
       "    </tr>\n",
       "    <tr>\n",
       "      <th>Mg</th>\n",
       "      <td>-0.209179</td>\n",
       "      <td>0.270798</td>\n",
       "      <td>-0.054575</td>\n",
       "      <td>0.286587</td>\n",
       "      <td>-0.083333</td>\n",
       "      <td>1.000000</td>\n",
       "      <td>0.214401</td>\n",
       "      <td>0.195784</td>\n",
       "      <td>-0.256294</td>\n",
       "      <td>0.236441</td>\n",
       "      <td>0.199950</td>\n",
       "      <td>0.055398</td>\n",
       "      <td>0.066004</td>\n",
       "      <td>0.393351</td>\n",
       "    </tr>\n",
       "    <tr>\n",
       "      <th>Phenols</th>\n",
       "      <td>-0.719163</td>\n",
       "      <td>0.289101</td>\n",
       "      <td>-0.335167</td>\n",
       "      <td>0.128980</td>\n",
       "      <td>-0.321113</td>\n",
       "      <td>0.214401</td>\n",
       "      <td>1.000000</td>\n",
       "      <td>0.864564</td>\n",
       "      <td>-0.449935</td>\n",
       "      <td>0.612413</td>\n",
       "      <td>-0.055136</td>\n",
       "      <td>0.433681</td>\n",
       "      <td>0.699949</td>\n",
       "      <td>0.498115</td>\n",
       "    </tr>\n",
       "    <tr>\n",
       "      <th>Flavanoids</th>\n",
       "      <td>-0.847498</td>\n",
       "      <td>0.236815</td>\n",
       "      <td>-0.411007</td>\n",
       "      <td>0.115077</td>\n",
       "      <td>-0.351370</td>\n",
       "      <td>0.195784</td>\n",
       "      <td>0.864564</td>\n",
       "      <td>1.000000</td>\n",
       "      <td>-0.537900</td>\n",
       "      <td>0.652692</td>\n",
       "      <td>-0.172379</td>\n",
       "      <td>0.543479</td>\n",
       "      <td>0.787194</td>\n",
       "      <td>0.494193</td>\n",
       "    </tr>\n",
       "    <tr>\n",
       "      <th>Nonflavanoid.phenols</th>\n",
       "      <td>0.489109</td>\n",
       "      <td>-0.155929</td>\n",
       "      <td>0.292977</td>\n",
       "      <td>0.186230</td>\n",
       "      <td>0.361922</td>\n",
       "      <td>-0.256294</td>\n",
       "      <td>-0.449935</td>\n",
       "      <td>-0.537900</td>\n",
       "      <td>1.000000</td>\n",
       "      <td>-0.365845</td>\n",
       "      <td>0.139057</td>\n",
       "      <td>-0.262640</td>\n",
       "      <td>-0.503270</td>\n",
       "      <td>-0.311385</td>\n",
       "    </tr>\n",
       "    <tr>\n",
       "      <th>Proanth</th>\n",
       "      <td>-0.499130</td>\n",
       "      <td>0.136698</td>\n",
       "      <td>-0.220746</td>\n",
       "      <td>0.009652</td>\n",
       "      <td>-0.197327</td>\n",
       "      <td>0.236441</td>\n",
       "      <td>0.612413</td>\n",
       "      <td>0.652692</td>\n",
       "      <td>-0.365845</td>\n",
       "      <td>1.000000</td>\n",
       "      <td>-0.025250</td>\n",
       "      <td>0.295544</td>\n",
       "      <td>0.519067</td>\n",
       "      <td>0.330417</td>\n",
       "    </tr>\n",
       "    <tr>\n",
       "      <th>Color.int</th>\n",
       "      <td>0.265668</td>\n",
       "      <td>0.546364</td>\n",
       "      <td>0.248985</td>\n",
       "      <td>0.258887</td>\n",
       "      <td>0.018732</td>\n",
       "      <td>0.199950</td>\n",
       "      <td>-0.055136</td>\n",
       "      <td>-0.172379</td>\n",
       "      <td>0.139057</td>\n",
       "      <td>-0.025250</td>\n",
       "      <td>1.000000</td>\n",
       "      <td>-0.521813</td>\n",
       "      <td>-0.428815</td>\n",
       "      <td>0.316100</td>\n",
       "    </tr>\n",
       "    <tr>\n",
       "      <th>Hue</th>\n",
       "      <td>-0.617369</td>\n",
       "      <td>-0.071747</td>\n",
       "      <td>-0.561296</td>\n",
       "      <td>-0.074667</td>\n",
       "      <td>-0.273955</td>\n",
       "      <td>0.055398</td>\n",
       "      <td>0.433681</td>\n",
       "      <td>0.543479</td>\n",
       "      <td>-0.262640</td>\n",
       "      <td>0.295544</td>\n",
       "      <td>-0.521813</td>\n",
       "      <td>1.000000</td>\n",
       "      <td>0.565468</td>\n",
       "      <td>0.236183</td>\n",
       "    </tr>\n",
       "    <tr>\n",
       "      <th>OD</th>\n",
       "      <td>-0.788230</td>\n",
       "      <td>0.072343</td>\n",
       "      <td>-0.368710</td>\n",
       "      <td>0.003911</td>\n",
       "      <td>-0.276769</td>\n",
       "      <td>0.066004</td>\n",
       "      <td>0.699949</td>\n",
       "      <td>0.787194</td>\n",
       "      <td>-0.503270</td>\n",
       "      <td>0.519067</td>\n",
       "      <td>-0.428815</td>\n",
       "      <td>0.565468</td>\n",
       "      <td>1.000000</td>\n",
       "      <td>0.312761</td>\n",
       "    </tr>\n",
       "    <tr>\n",
       "      <th>Proline</th>\n",
       "      <td>-0.633717</td>\n",
       "      <td>0.643720</td>\n",
       "      <td>-0.192011</td>\n",
       "      <td>0.223626</td>\n",
       "      <td>-0.440597</td>\n",
       "      <td>0.393351</td>\n",
       "      <td>0.498115</td>\n",
       "      <td>0.494193</td>\n",
       "      <td>-0.311385</td>\n",
       "      <td>0.330417</td>\n",
       "      <td>0.316100</td>\n",
       "      <td>0.236183</td>\n",
       "      <td>0.312761</td>\n",
       "      <td>1.000000</td>\n",
       "    </tr>\n",
       "  </tbody>\n",
       "</table>\n",
       "</div>"
      ],
      "text/plain": [
       "                          Wine   Alcohol  Malic.acid       Ash       Acl  \\\n",
       "Wine                  1.000000 -0.328222    0.437776 -0.049643  0.517859   \n",
       "Alcohol              -0.328222  1.000000    0.094397  0.211545 -0.310235   \n",
       "Malic.acid            0.437776  0.094397    1.000000  0.164045  0.288500   \n",
       "Ash                  -0.049643  0.211545    0.164045  1.000000  0.443367   \n",
       "Acl                   0.517859 -0.310235    0.288500  0.443367  1.000000   \n",
       "Mg                   -0.209179  0.270798   -0.054575  0.286587 -0.083333   \n",
       "Phenols              -0.719163  0.289101   -0.335167  0.128980 -0.321113   \n",
       "Flavanoids           -0.847498  0.236815   -0.411007  0.115077 -0.351370   \n",
       "Nonflavanoid.phenols  0.489109 -0.155929    0.292977  0.186230  0.361922   \n",
       "Proanth              -0.499130  0.136698   -0.220746  0.009652 -0.197327   \n",
       "Color.int             0.265668  0.546364    0.248985  0.258887  0.018732   \n",
       "Hue                  -0.617369 -0.071747   -0.561296 -0.074667 -0.273955   \n",
       "OD                   -0.788230  0.072343   -0.368710  0.003911 -0.276769   \n",
       "Proline              -0.633717  0.643720   -0.192011  0.223626 -0.440597   \n",
       "\n",
       "                            Mg   Phenols  Flavanoids  Nonflavanoid.phenols  \\\n",
       "Wine                 -0.209179 -0.719163   -0.847498              0.489109   \n",
       "Alcohol               0.270798  0.289101    0.236815             -0.155929   \n",
       "Malic.acid           -0.054575 -0.335167   -0.411007              0.292977   \n",
       "Ash                   0.286587  0.128980    0.115077              0.186230   \n",
       "Acl                  -0.083333 -0.321113   -0.351370              0.361922   \n",
       "Mg                    1.000000  0.214401    0.195784             -0.256294   \n",
       "Phenols               0.214401  1.000000    0.864564             -0.449935   \n",
       "Flavanoids            0.195784  0.864564    1.000000             -0.537900   \n",
       "Nonflavanoid.phenols -0.256294 -0.449935   -0.537900              1.000000   \n",
       "Proanth               0.236441  0.612413    0.652692             -0.365845   \n",
       "Color.int             0.199950 -0.055136   -0.172379              0.139057   \n",
       "Hue                   0.055398  0.433681    0.543479             -0.262640   \n",
       "OD                    0.066004  0.699949    0.787194             -0.503270   \n",
       "Proline               0.393351  0.498115    0.494193             -0.311385   \n",
       "\n",
       "                       Proanth  Color.int       Hue        OD   Proline  \n",
       "Wine                 -0.499130   0.265668 -0.617369 -0.788230 -0.633717  \n",
       "Alcohol               0.136698   0.546364 -0.071747  0.072343  0.643720  \n",
       "Malic.acid           -0.220746   0.248985 -0.561296 -0.368710 -0.192011  \n",
       "Ash                   0.009652   0.258887 -0.074667  0.003911  0.223626  \n",
       "Acl                  -0.197327   0.018732 -0.273955 -0.276769 -0.440597  \n",
       "Mg                    0.236441   0.199950  0.055398  0.066004  0.393351  \n",
       "Phenols               0.612413  -0.055136  0.433681  0.699949  0.498115  \n",
       "Flavanoids            0.652692  -0.172379  0.543479  0.787194  0.494193  \n",
       "Nonflavanoid.phenols -0.365845   0.139057 -0.262640 -0.503270 -0.311385  \n",
       "Proanth               1.000000  -0.025250  0.295544  0.519067  0.330417  \n",
       "Color.int            -0.025250   1.000000 -0.521813 -0.428815  0.316100  \n",
       "Hue                   0.295544  -0.521813  1.000000  0.565468  0.236183  \n",
       "OD                    0.519067  -0.428815  0.565468  1.000000  0.312761  \n",
       "Proline               0.330417   0.316100  0.236183  0.312761  1.000000  "
      ]
     },
     "execution_count": 2,
     "metadata": {},
     "output_type": "execute_result"
    }
   ],
   "source": [
    "ds.corr()"
   ]
  },
  {
   "cell_type": "markdown",
   "id": "acute-newton",
   "metadata": {},
   "source": [
    "Define target and feature"
   ]
  },
  {
   "cell_type": "code",
   "execution_count": 3,
   "id": "positive-intro",
   "metadata": {},
   "outputs": [],
   "source": [
    "target=ds.iloc[:,:1]\n",
    "feature=ds.iloc[:,-13:]"
   ]
  },
  {
   "cell_type": "markdown",
   "id": "fatal-worst",
   "metadata": {},
   "source": [
    "Standardization"
   ]
  },
  {
   "cell_type": "code",
   "execution_count": 4,
   "id": "skilled-wales",
   "metadata": {},
   "outputs": [],
   "source": [
    "from sklearn.preprocessing import MinMaxScaler\n",
    "scaler=MinMaxScaler()\n",
    "data=scaler.fit_transform(feature)"
   ]
  },
  {
   "cell_type": "markdown",
   "id": "funny-thong",
   "metadata": {},
   "source": [
    "Check the variance ratio with PCA (optional)"
   ]
  },
  {
   "cell_type": "code",
   "execution_count": 5,
   "id": "august-philadelphia",
   "metadata": {},
   "outputs": [
    {
     "data": {
      "text/plain": [
       "array([0.40749485, 0.18970352, 0.08561671, 0.07426678, 0.05565301,\n",
       "       0.04658837, 0.03663929, 0.02408789, 0.02274371, 0.02250965,\n",
       "       0.01381292, 0.01273236, 0.00815095])"
      ]
     },
     "execution_count": 5,
     "metadata": {},
     "output_type": "execute_result"
    }
   ],
   "source": [
    "from sklearn.decomposition import PCA\n",
    "\n",
    "pca=PCA()\n",
    "data=pca.fit_transform(data)\n",
    "pca.explained_variance_ratio_"
   ]
  },
  {
   "cell_type": "markdown",
   "id": "bearing-exclusive",
   "metadata": {},
   "source": [
    "Reduce the dimensionality from 13 to 2 "
   ]
  },
  {
   "cell_type": "code",
   "execution_count": 6,
   "id": "dirty-nashville",
   "metadata": {},
   "outputs": [
    {
     "data": {
      "text/html": [
       "<div>\n",
       "<style scoped>\n",
       "    .dataframe tbody tr th:only-of-type {\n",
       "        vertical-align: middle;\n",
       "    }\n",
       "\n",
       "    .dataframe tbody tr th {\n",
       "        vertical-align: top;\n",
       "    }\n",
       "\n",
       "    .dataframe thead tr th {\n",
       "        text-align: left;\n",
       "    }\n",
       "</style>\n",
       "<table border=\"1\" class=\"dataframe\">\n",
       "  <thead>\n",
       "    <tr>\n",
       "      <th></th>\n",
       "      <th>PC1</th>\n",
       "      <th>PC2</th>\n",
       "    </tr>\n",
       "  </thead>\n",
       "  <tbody>\n",
       "    <tr>\n",
       "      <th>0</th>\n",
       "      <td>-0.706336</td>\n",
       "      <td>-0.253193</td>\n",
       "    </tr>\n",
       "    <tr>\n",
       "      <th>1</th>\n",
       "      <td>-0.484977</td>\n",
       "      <td>-0.008823</td>\n",
       "    </tr>\n",
       "    <tr>\n",
       "      <th>2</th>\n",
       "      <td>-0.521172</td>\n",
       "      <td>-0.189187</td>\n",
       "    </tr>\n",
       "    <tr>\n",
       "      <th>3</th>\n",
       "      <td>-0.821644</td>\n",
       "      <td>-0.580906</td>\n",
       "    </tr>\n",
       "    <tr>\n",
       "      <th>4</th>\n",
       "      <td>-0.202546</td>\n",
       "      <td>-0.059467</td>\n",
       "    </tr>\n",
       "    <tr>\n",
       "      <th>...</th>\n",
       "      <td>...</td>\n",
       "      <td>...</td>\n",
       "    </tr>\n",
       "    <tr>\n",
       "      <th>173</th>\n",
       "      <td>0.739510</td>\n",
       "      <td>-0.471901</td>\n",
       "    </tr>\n",
       "    <tr>\n",
       "      <th>174</th>\n",
       "      <td>0.581781</td>\n",
       "      <td>-0.348366</td>\n",
       "    </tr>\n",
       "    <tr>\n",
       "      <th>175</th>\n",
       "      <td>0.626313</td>\n",
       "      <td>-0.546857</td>\n",
       "    </tr>\n",
       "    <tr>\n",
       "      <th>176</th>\n",
       "      <td>0.572991</td>\n",
       "      <td>-0.425516</td>\n",
       "    </tr>\n",
       "    <tr>\n",
       "      <th>177</th>\n",
       "      <td>0.701764</td>\n",
       "      <td>-0.513505</td>\n",
       "    </tr>\n",
       "  </tbody>\n",
       "</table>\n",
       "<p>178 rows × 2 columns</p>\n",
       "</div>"
      ],
      "text/plain": [
       "          PC1       PC2\n",
       "0   -0.706336 -0.253193\n",
       "1   -0.484977 -0.008823\n",
       "2   -0.521172 -0.189187\n",
       "3   -0.821644 -0.580906\n",
       "4   -0.202546 -0.059467\n",
       "..        ...       ...\n",
       "173  0.739510 -0.471901\n",
       "174  0.581781 -0.348366\n",
       "175  0.626313 -0.546857\n",
       "176  0.572991 -0.425516\n",
       "177  0.701764 -0.513505\n",
       "\n",
       "[178 rows x 2 columns]"
      ]
     },
     "execution_count": 6,
     "metadata": {},
     "output_type": "execute_result"
    }
   ],
   "source": [
    "from sklearn.decomposition import PCA\n",
    "pca=PCA(n_components=2)\n",
    "data=pca.fit_transform(data)\n",
    "data=pd.DataFrame(data,columns=[['PC1','PC2']])\n",
    "data"
   ]
  },
  {
   "cell_type": "markdown",
   "id": "engaged-proposal",
   "metadata": {},
   "source": [
    "Plot data"
   ]
  },
  {
   "cell_type": "code",
   "execution_count": 7,
   "id": "drawn-parking",
   "metadata": {},
   "outputs": [
    {
     "data": {
      "text/plain": [
       "<matplotlib.collections.PathCollection at 0x1c449069148>"
      ]
     },
     "execution_count": 7,
     "metadata": {},
     "output_type": "execute_result"
    },
    {
     "data": {
      "image/png": "[encoded data removed]",
      "text/plain": [
       "<Figure size 432x288 with 1 Axes>"
      ]
     },
     "metadata": {
      "needs_background": "light"
     },
     "output_type": "display_data"
    }
   ],
   "source": [
    "import matplotlib.pyplot as plt\n",
    "import numpy as np\n",
    "target=np.array(target)\n",
    "plt.scatter(data['PC1'],data['PC2'],c=target)"
   ]
  },
  {
   "cell_type": "markdown",
   "id": "natural-richards",
   "metadata": {},
   "source": [
    "<h2 style='font-family:raleway'>3)\tA. The generic architecture of a CNN, as shown in the following figure,  consists of  two (2) main components i.e. Feature Extractors and Classifier. Based on your understanding of a CNN, explain how the convolutional and pooling layers, including the RELU work to get the high-level feature maps"
   ]
  },
  {
   "cell_type": "markdown",
   "id": "overall-banner",
   "metadata": {},
   "source": [
    "Convolutional layer works by recognizing objects based on attributes that have more information instead of recognizing objects based on pixels. The Convolutional layer work to recognize the unique attributes of an object. This can be happened with the concept that The lower attributes of an object will form the higher attributes. As example, the facial attributes <b>(High level features)</b> are formed from the attributes of eyes, ears, and nose. The eye attribute <b>(Mid level features)</b> is formed from lines, curves and dark spots <b>(Low-level features)</b>. And this is the same way about how convolutional layer work."
   ]
  },
  {
   "cell_type": "markdown",
   "id": "hispanic-provider",
   "metadata": {},
   "source": [
    "After the convolutional process in the input image, usually there will be a pooling process.\n",
    "\n",
    "Pooling aims to reduce the resolution of the image while retaining the information in the image. The example of pooling process is max pooling. Max pooling work with taking one pixel with the highest value in certain area (The area based on defined \"filter\"). The result will be a new image with lower pixel image. "
   ]
  },
  {
   "cell_type": "markdown",
   "id": "intellectual-millennium",
   "metadata": {},
   "source": [
    "Here's the visualization of max-pooling\n",
    "<br><br>\n",
    "<img src=\"https://lh3.googleusercontent.com/VkXlxw5LBIedeym8qc3W31nvCUuAih00XDXX34s_asH_APlyKeFjSI9EdSoBEe0g-kWqbDrRBg9qREOfggQBtLEAc8yHwdIOfmK7_Xm-eHjrZDbSJ8R-RsiTYqbu7o-Td5BqA1rC\">"
   ]
  },
  {
   "cell_type": "markdown",
   "id": "internal-capability",
   "metadata": {},
   "source": [
    "Rectified Linear Unit (ReLU) \n",
    "<img src=\"https://www.baeldung.com/wp-content/ql-cache/quicklatex.com-509a20cb7d2c9fac7db90132b4b6fe0d_l3.svg\">\n",
    "\n",
    "The ReLU function is continuous even if the slope changes suddenly and the derivative value is 0 at z < 0. However, it does a very good job and makes the network work efficiently thereby speeding up computation time. Also, in Convolutional Neural Network it’s preferable to use non-negative activation functions. And so the most common used function is Rectified Linear function, and a neuron that uses it is called Rectified Linear Unit (ReLU). The usage of ReLU helps to prevent the exponential growth in the computation required to operate the neural network.\n",
    "\n",
    "ReLUs also prevent the “vanishing gradient” problem, which is common when we use sigmoid functions. This problem refers to the tendency for the gradient of a neuron to approach zero for high values of the input."
   ]
  },
  {
   "cell_type": "markdown",
   "id": "processed-massachusetts",
   "metadata": {},
   "source": [
    "<h2 style='font-family:raleway'>B) Let take an input image (size = 39 $ \\times $ 39 $ \\times $ 3), convolve it with 10 filters of size 3 $ \\times $ 3, and take the stride as 1 and no padding. "
   ]
  },
  {
   "cell_type": "markdown",
   "id": "choice-parker",
   "metadata": {},
   "source": [
    "<h3>A)\tWhat is the size of the output volume."
   ]
  },
  {
   "cell_type": "markdown",
   "id": "industrial-trunk",
   "metadata": {},
   "source": [
    "<h3 style=\"text-align:center\">$ d = \\frac{w-k + (2 p)}{s} + 1 $"
   ]
  },
  {
   "cell_type": "markdown",
   "id": "smoking-belief",
   "metadata": {},
   "source": [
    "$ \n",
    "w = \\text{input size} \\\\\n",
    "k = \\text{filter size} \\\\\n",
    "s = \\text{stride} \\\\\n",
    "p = \\text{padding} \\\\\n",
    "$"
   ]
  },
  {
   "cell_type": "markdown",
   "id": "stupid-impossible",
   "metadata": {},
   "source": [
    "<h3 style=\"text-align:center\">$ d = \\frac{39 - 3 + (2(0))}{1} + 1 = 37$"
   ]
  },
  {
   "cell_type": "markdown",
   "id": "protecting-boundary",
   "metadata": {},
   "source": [
    "Output dimension: (37 $\\times$ 37$\\times$ 10) \n",
    "\n",
    "<i>*Note: 10 is number of filters"
   ]
  },
  {
   "cell_type": "markdown",
   "id": "radical-substance",
   "metadata": {},
   "source": [
    "<h3>b)\tThis output is then convolved with 20 filter of size 5 x 5, stride 2 and no padding. Now calculate the new output volume size."
   ]
  },
  {
   "cell_type": "markdown",
   "id": "driving-count",
   "metadata": {},
   "source": [
    "<h3 style=\"text-align:center\">$ d = \\frac{37 - 5 + (2(0))}{2} + 1 = 17 $"
   ]
  },
  {
   "cell_type": "markdown",
   "id": "indirect-sauce",
   "metadata": {},
   "source": [
    "Output dimension: (17 $\\times$ 17$\\times$ 20) "
   ]
  },
  {
   "cell_type": "markdown",
   "id": "intimate-helmet",
   "metadata": {},
   "source": [
    "<h3>C)\tIf we further convolved the output from (b) with 40 filter of size 5 x 5 and take a stride as 2 and no padding, again what is the output volume size."
   ]
  },
  {
   "cell_type": "markdown",
   "id": "acquired-indonesia",
   "metadata": {},
   "source": [
    "<h3 style=\"text-align:center\">$ d = \\frac{17 - 5 + (2(0))}{2} + 1 = 7 $"
   ]
  },
  {
   "cell_type": "markdown",
   "id": "african-kingston",
   "metadata": {},
   "source": [
    "Output dimension: (7 $\\times$ 7$\\times$ 40) "
   ]
  },
  {
   "cell_type": "markdown",
   "id": "quiet-lambda",
   "metadata": {},
   "source": [
    "<h3>D)\tEventually after 3 times convolution, the input image if flatten prior feeding to the classifier.  Calculate the length of the column vector after flattening."
   ]
  },
  {
   "cell_type": "markdown",
   "id": "talented-albany",
   "metadata": {},
   "source": [
    "Length after 3 convolution:\n",
    "\n",
    "Length = $ 7 \\times 7 \\times 40 = 1960$"
   ]
  }
 ],
 "metadata": {
  "kernelspec": {
   "display_name": "Python 3",
   "language": "python",
   "name": "python3"
  },
  "language_info": {
   "codemirror_mode": {
    "name": "ipython",
    "version": 3
   },
   "file_extension": ".py",
   "mimetype": "text/x-python",
   "name": "python",
   "nbconvert_exporter": "python",
   "pygments_lexer": "ipython3",
   "version": "3.7.9"
  }
 },
 "nbformat": 4,
 "nbformat_minor": 5
}
