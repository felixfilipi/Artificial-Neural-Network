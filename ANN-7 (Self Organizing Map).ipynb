{
 "cells": [
  {
   "cell_type": "code",
   "execution_count": 1,
   "id": "motivated-trader",
   "metadata": {},
   "outputs": [],
   "source": [
    "#SOM (self orginizing map)\n",
    "\n",
    "import tensorflow as tf\n",
    "import matplotlib.pyplot as plt"
   ]
  },
  {
   "cell_type": "code",
   "execution_count": 11,
   "id": "fifth-anniversary",
   "metadata": {},
   "outputs": [
    {
     "data": {
      "image/png": "[encoded data removed]",
      "text/plain": [
       "<Figure size 432x288 with 1 Axes>"
      ]
     },
     "metadata": {
      "needs_background": "light"
     },
     "output_type": "display_data"
    }
   ],
   "source": [
    "class SOM:\n",
    "    \n",
    "    #constructor\n",
    "    def __init__(self, height,width,input_dimension,learning_rate):\n",
    "        self.height=height\n",
    "        self.width=width\n",
    "        self.input_dimension=input_dimension\n",
    "        self.learning_rate=learning_rate\n",
    "        \n",
    "        #tf.Variable(tf.random_normal([9,3]))\n",
    "        self.weight=tf.Variable(tf.random_normal([self.height * self.width,self.input_dimension]))\n",
    "        self.input=tf.placeholder(tf.float32,[self.input_dimension])\n",
    "        \n",
    "        self.location=[tf.to_float([y,x]) for y in range (self.height) for x in range(self.width)]\n",
    "        self.bmu=self.get_bmu()\n",
    "        self.update=self.update_neighbor()\n",
    "        \n",
    "    #BMU -> Best Matching Unit\n",
    "    def get_bmu(self):\n",
    "        square=tf.square(self.input-self.weight)\n",
    "        distance=tf.sqrt(tf.reduce_mean(square,axis=1))\n",
    "        bmu_index=tf.argmin(distance) #return min index\n",
    "        \n",
    "        #tf.to_float([bmu/width,bmu%width])\n",
    "        bmu_location=tf.to_float([tf.div(bmu_index,self.width),tf.mod(bmu_index,self.width)])\n",
    "        \n",
    "        return bmu_location\n",
    "    \n",
    "    #Update weight\n",
    "    def update_neighbor(self):\n",
    "        \n",
    "        #calculate distance each cluster from BMU\n",
    "        square=tf.square(self.bmu - self.location)\n",
    "        distance=tf.sqrt(tf.reduce_mean(square, axis=1))\n",
    "        sigma=tf.to_float(tf.maximum(self.width,self.height)/2)\n",
    "        neighbor_strength=tf.exp(tf.div(tf.negative(tf.square(distance)),2*tf.square(sigma)))\n",
    "        \n",
    "        rate=neighbor_strength*self.learning_rate\n",
    "        stacked_rate=tf.stack([tf.tile(tf.slice(rate,[i],[1]),[self.input_dimension])\n",
    "                              for i in range (self.width * self.height)])\n",
    "        \n",
    "        weight=stacked_rate*(self.input-self.weight)\n",
    "        new_weight=self.weight+weight\n",
    "        \n",
    "        return tf.assign(self.weight, new_weight)\n",
    "    \n",
    "    def train(self,dataset,epoch):\n",
    "        with tf.Session()as sess:\n",
    "            sess.run(tf.global_variables_initializer())\n",
    "            for i in range (epoch):\n",
    "                for data in dataset:\n",
    "                    sess.run(self.update, feed_dict={self.input:data})\n",
    "                    \n",
    "            location = sess.run(self.location)\n",
    "            weight=sess.run(self.weight)\n",
    "            \n",
    "            self.cluster=[[] for i in range(self.height)]\n",
    "            for i,loc in enumerate(location):\n",
    "                self.cluster[int(loc[0])].append(weight[i])\n",
    "            \n",
    "            #sess.run(self.cluster)\n",
    "    \n",
    "def main():\n",
    "    colors = [\n",
    "        [0., 0., 0.],  # Black\n",
    "        [1., 1., 1.],  # White\n",
    "        [1., 0., 0.],  # Red\n",
    "        [0., 1., 0.],  # Green\n",
    "        [0., 0., 1.],  # Blue\n",
    "        [1., 1., 0.],  # Yellow\n",
    "        [1., 0., 1.],  # Pink\n",
    "        [0., 1., 1.]   # Cyan\n",
    "    ]\n",
    "    height=3\n",
    "    width=3\n",
    "    \n",
    "    #Total feature (R,G,B)\n",
    "    input_dimension=3\n",
    "    learning_rate=0.1\n",
    "    epoch=1000\n",
    "    \n",
    "    som=SOM(height,width,input_dimension,learning_rate)\n",
    "    som.train(colors,epoch)\n",
    "    \n",
    "    plt.imshow(som.cluster)\n",
    "    plt.show()\n",
    "if __name__=='__main__':\n",
    "    main()\n",
    "    "
   ]
  }
 ],
 "metadata": {
  "kernelspec": {
   "display_name": "Python 3",
   "language": "python",
   "name": "python3"
  },
  "language_info": {
   "codemirror_mode": {
    "name": "ipython",
    "version": 3
   },
   "file_extension": ".py",
   "mimetype": "text/x-python",
   "name": "python",
   "nbconvert_exporter": "python",
   "pygments_lexer": "ipython3",
   "version": "3.7.9"
  }
 },
 "nbformat": 4,
 "nbformat_minor": 5
}
