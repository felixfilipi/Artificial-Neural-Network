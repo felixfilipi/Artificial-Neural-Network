{
 "cells": [
  {
   "cell_type": "code",
   "execution_count": 1,
   "id": "threaded-census",
   "metadata": {},
   "outputs": [],
   "source": [
    "#RNN, usually for Image Captioning, time series prediction, nlp\n",
    "#import lib\n",
    "\n",
    "import pandas as pd\n",
    "import tensorflow as tf\n",
    "import matplotlib.pyplot as plt\n",
    "import numpy as np\n",
    "from sklearn.preprocessing import MinMaxScaler"
   ]
  },
  {
   "cell_type": "code",
   "execution_count": 2,
   "id": "pleased-trial",
   "metadata": {},
   "outputs": [
    {
     "name": "stdout",
     "output_type": "stream",
     "text": [
      "         MilkProduction\n",
      "Month                  \n",
      "1962-01             589\n",
      "1962-02             561\n",
      "1962-03             640\n",
      "1962-04             656\n",
      "1962-05             727\n",
      "...                 ...\n",
      "1975-08             858\n",
      "1975-09             817\n",
      "1975-10             827\n",
      "1975-11             797\n",
      "1975-12             843\n",
      "\n",
      "[168 rows x 1 columns]\n"
     ]
    }
   ],
   "source": [
    "ds=pd.read_csv('Milk.csv',index_col='Month') \n",
    "print(ds)"
   ]
  },
  {
   "cell_type": "code",
   "execution_count": 3,
   "id": "female-network",
   "metadata": {},
   "outputs": [
    {
     "data": {
      "image/png": "[encoded data removed]",
      "text/plain": [
       "<Figure size 432x288 with 1 Axes>"
      ]
     },
     "metadata": {
      "needs_background": "light"
     },
     "output_type": "display_data"
    }
   ],
   "source": [
    "ds.index=pd.to_datetime(ds.index) #obj to date64\n",
    "\n",
    "plt.title(\"Milk Production\")\n",
    "plt.plot(ds)\n",
    "plt.show()"
   ]
  },
  {
   "cell_type": "code",
   "execution_count": 4,
   "id": "informative-jungle",
   "metadata": {},
   "outputs": [],
   "source": [
    "#split train test\n",
    "testing_size=int(len(ds)/8)\n",
    "training = ds.head(len(ds)-testing_size)\n",
    "testing=ds.tail(testing_size)"
   ]
  },
  {
   "cell_type": "code",
   "execution_count": 5,
   "id": "opening-scanning",
   "metadata": {},
   "outputs": [],
   "source": [
    "#normalize\n",
    "mms=MinMaxScaler()\n",
    "training_ds=mms.fit_transform(training)\n",
    "testing_ds=mms.fit_transform(testing)"
   ]
  },
  {
   "cell_type": "code",
   "execution_count": 6,
   "id": "bound-elite",
   "metadata": {},
   "outputs": [],
   "source": [
    "#initialize var\n",
    "input_layer=1\n",
    "output_layer=1\n",
    "context_layer=90 #hidden\n",
    "time_step = 20 #3rd dimension of 3d tensor\n",
    "batch_size=2 #number of sample processed before the model updated\n",
    "epoch=3000 #number of complete training ds\n",
    "learning_rate=0.02"
   ]
  },
  {
   "cell_type": "code",
   "execution_count": 7,
   "id": "tough-camping",
   "metadata": {},
   "outputs": [
    {
     "name": "stdout",
     "output_type": "stream",
     "text": [
      "WARNING:tensorflow:From <ipython-input-7-52f0a51c9ce0>:4: BasicRNNCell.__init__ (from tensorflow.python.ops.rnn_cell_impl) is deprecated and will be removed in a future version.\n",
      "Instructions for updating:\n",
      "This class is equivalent as tf.keras.layers.SimpleRNNCell, and will be replaced by that in Tensorflow 2.0.\n"
     ]
    }
   ],
   "source": [
    "#BasicRNNCell architecture\n",
    "#many more: GRUCell,BasicLSTMCell, LSTMCell,BasicRNNCell,MultiRNNCell,DropoutWrapper\n",
    "\n",
    "cell=tf.nn.rnn_cell.BasicRNNCell(context_layer,activation=tf.nn.relu)"
   ]
  },
  {
   "cell_type": "code",
   "execution_count": 8,
   "id": "upper-calvin",
   "metadata": {},
   "outputs": [
    {
     "name": "stdout",
     "output_type": "stream",
     "text": [
      "WARNING:tensorflow:\n",
      "The TensorFlow contrib module will not be included in TensorFlow 2.0.\n",
      "For more information, please see:\n",
      "  * https://github.com/tensorflow/community/blob/master/rfcs/20180907-contrib-sunset.md\n",
      "  * https://github.com/tensorflow/addons\n",
      "  * https://github.com/tensorflow/io (for I/O related ops)\n",
      "If you depend on functionality not listed there, please file an issue.\n",
      "\n"
     ]
    }
   ],
   "source": [
    "#connect context to ouput\n",
    "cell=tf.contrib.rnn.OutputProjectionWrapper(cell, output_size=output_layer,activation=tf.nn.relu)"
   ]
  },
  {
   "cell_type": "code",
   "execution_count": 9,
   "id": "invisible-belief",
   "metadata": {},
   "outputs": [],
   "source": [
    "#Placeholder\n",
    "input_placeholder = tf.placeholder(tf.float32,[None,time_step,input_layer])\n",
    "output_placeholder = tf.placeholder(tf.float32,[None,time_step,output_layer])"
   ]
  },
  {
   "cell_type": "code",
   "execution_count": 10,
   "id": "spare-hundred",
   "metadata": {},
   "outputs": [
    {
     "name": "stdout",
     "output_type": "stream",
     "text": [
      "WARNING:tensorflow:From <ipython-input-10-73a6915d942c>:2: dynamic_rnn (from tensorflow.python.ops.rnn) is deprecated and will be removed in a future version.\n",
      "Instructions for updating:\n",
      "Please use `keras.layers.RNN(cell)`, which is equivalent to this API\n",
      "WARNING:tensorflow:From C:\\Users\\User\\anaconda3\\envs\\tensorflow\\lib\\site-packages\\tensorflow_core\\python\\ops\\rnn_cell_impl.py:456: Layer.add_variable (from tensorflow.python.keras.engine.base_layer) is deprecated and will be removed in a future version.\n",
      "Instructions for updating:\n",
      "Please use `layer.add_weight` method instead.\n",
      "WARNING:tensorflow:From C:\\Users\\User\\anaconda3\\envs\\tensorflow\\lib\\site-packages\\tensorflow_core\\python\\ops\\rnn_cell_impl.py:460: calling Zeros.__init__ (from tensorflow.python.ops.init_ops) with dtype is deprecated and will be removed in a future version.\n",
      "Instructions for updating:\n",
      "Call initializer instance with the dtype argument instead of passing it to the constructor\n",
      "WARNING:tensorflow:From C:\\Users\\User\\anaconda3\\envs\\tensorflow\\lib\\site-packages\\tensorflow_core\\contrib\\rnn\\python\\ops\\core_rnn_cell.py:104: calling Constant.__init__ (from tensorflow.python.ops.init_ops) with dtype is deprecated and will be removed in a future version.\n",
      "Instructions for updating:\n",
      "Call initializer instance with the dtype argument instead of passing it to the constructor\n"
     ]
    }
   ],
   "source": [
    "#Connect input placeholder to RNN\n",
    "output,state = tf.nn.dynamic_rnn(cell,input_placeholder,dtype=tf.float32)"
   ]
  },
  {
   "cell_type": "code",
   "execution_count": 11,
   "id": "pregnant-gender",
   "metadata": {},
   "outputs": [],
   "source": [
    "#Error (MSE)\n",
    "error = tf.reduce_mean(0.5*(output_placeholder-output)**2)"
   ]
  },
  {
   "cell_type": "code",
   "execution_count": 12,
   "id": "powered-devices",
   "metadata": {},
   "outputs": [
    {
     "name": "stdout",
     "output_type": "stream",
     "text": [
      "WARNING:tensorflow:From C:\\Users\\User\\anaconda3\\envs\\tensorflow\\lib\\site-packages\\tensorflow_core\\python\\ops\\math_grad.py:1375: where (from tensorflow.python.ops.array_ops) is deprecated and will be removed in a future version.\n",
      "Instructions for updating:\n",
      "Use tf.where in 2.0, which has the same broadcast rule as np.where\n"
     ]
    }
   ],
   "source": [
    "#optimizer\n",
    "train=tf.train.AdamOptimizer(learning_rate).minimize(error)"
   ]
  },
  {
   "cell_type": "code",
   "execution_count": 13,
   "id": "executed-honey",
   "metadata": {},
   "outputs": [],
   "source": [
    "#training batch method\n",
    "def batch(ds,time_step,batch_size):\n",
    "    x_batch = np.zeros(shape=(batch_size, time_step, input_layer)) #set value to 0\n",
    "    y_batch = np.zeros(shape=(batch_size, time_step, output_layer))\n",
    "    \n",
    "    #define [start:end]\n",
    "    for i in range(batch_size):\n",
    "        random=np.random.randint(0, len(ds)-time_step)\n",
    "        x_batch[i]=ds[random: random+time_step]\n",
    "        y_batch[i]=ds[random+1:random+time_step+1]\n",
    "        \n",
    "    return x_batch,y_batch    "
   ]
  },
  {
   "cell_type": "code",
   "execution_count": 14,
   "id": "synthetic-brazilian",
   "metadata": {},
   "outputs": [
    {
     "name": "stdout",
     "output_type": "stream",
     "text": [
      "Iteration:0,Loss:1211.07%\n",
      "Iteration:100,Loss:0.49%\n",
      "Iteration:200,Loss:0.49%\n",
      "Iteration:300,Loss:0.62%\n",
      "Iteration:400,Loss:0.50%\n",
      "Iteration:500,Loss:0.37%\n",
      "Iteration:600,Loss:0.37%\n",
      "Iteration:700,Loss:0.35%\n",
      "Iteration:800,Loss:0.29%\n",
      "Iteration:900,Loss:0.30%\n",
      "Iteration:1000,Loss:0.25%\n",
      "Iteration:1100,Loss:0.25%\n",
      "Iteration:1200,Loss:0.22%\n",
      "Iteration:1300,Loss:0.30%\n",
      "Iteration:1400,Loss:0.14%\n",
      "Iteration:1500,Loss:0.14%\n",
      "Iteration:1600,Loss:0.20%\n",
      "Iteration:1700,Loss:0.06%\n",
      "Iteration:1800,Loss:0.16%\n",
      "Iteration:1900,Loss:0.11%\n",
      "Iteration:2000,Loss:0.09%\n",
      "Iteration:2100,Loss:0.06%\n",
      "Iteration:2200,Loss:0.16%\n",
      "Iteration:2300,Loss:0.11%\n",
      "Iteration:2400,Loss:0.16%\n",
      "Iteration:2500,Loss:0.17%\n",
      "Iteration:2600,Loss:0.17%\n",
      "Iteration:2700,Loss:0.08%\n",
      "Iteration:2800,Loss:0.12%\n",
      "Iteration:2900,Loss:0.09%\n"
     ]
    }
   ],
   "source": [
    "#Training\n",
    "\n",
    "saver=tf.train.Saver() #create obj to save training data/model\n",
    "\n",
    "with tf.Session() as sess:\n",
    "    sess.run(tf.global_variables_initializer())\n",
    "    \n",
    "    for i in range(epoch):\n",
    "        \n",
    "        #train ds\n",
    "        x_batch, y_batch = batch(training_ds,time_step,batch_size)\n",
    "        sess.run(train, feed_dict={\n",
    "            input_placeholder:x_batch,\n",
    "            output_placeholder:y_batch\n",
    "        })\n",
    "        \n",
    "        #print every 100\n",
    "        if i % 100==0:\n",
    "            print(\"Iteration:%d,Loss:%.2f%%\"%(i, sess.run(error, feed_dict={\n",
    "                input_placeholder:x_batch,\n",
    "                output_placeholder:y_batch\n",
    "            })*100))\n",
    "            \n",
    "    saver.save(sess, 'models/milk.ckpt')"
   ]
  },
  {
   "cell_type": "code",
   "execution_count": 15,
   "id": "silver-swaziland",
   "metadata": {},
   "outputs": [
    {
     "name": "stdout",
     "output_type": "stream",
     "text": [
      "INFO:tensorflow:Restoring parameters from models/milk.ckpt\n"
     ]
    },
    {
     "name": "stderr",
     "output_type": "stream",
     "text": [
      "C:\\Users\\User\\anaconda3\\envs\\tensorflow\\lib\\site-packages\\ipykernel_launcher.py:13: VisibleDeprecationWarning: Creating an ndarray from ragged nested sequences (which is a list-or-tuple of lists-or-tuples-or ndarrays with different lengths or shapes) is deprecated. If you meant to do this, you must specify 'dtype=object' when creating the ndarray\n",
      "  del sys.path[0]\n"
     ]
    }
   ],
   "source": [
    "#Testing\n",
    "\n",
    "with tf.Session() as sess:\n",
    "    \n",
    "    #restore training model\n",
    "    saver.restore(sess, 'models/milk.ckpt')\n",
    "    \n",
    "    #convert ds to list\n",
    "    testing_dataset_list = list(testing_ds)\n",
    "    \n",
    "    #testing dataset\n",
    "    for i in range(testing_size):\n",
    "        x_batch = np.array(testing_dataset_list[-time_step:]).reshape(1, time_step, input_layer)\n",
    "        prediction = sess.run(output, feed_dict={input_placeholder:x_batch})\n",
    "        testing_dataset_list.append(prediction[0,-1,0])\n",
    "    "
   ]
  },
  {
   "cell_type": "code",
   "execution_count": 16,
   "id": "prescribed-cross",
   "metadata": {},
   "outputs": [
    {
     "name": "stderr",
     "output_type": "stream",
     "text": [
      "C:\\Users\\User\\anaconda3\\envs\\tensorflow\\lib\\site-packages\\ipykernel_launcher.py:5: SettingWithCopyWarning: \n",
      "A value is trying to be set on a copy of a slice from a DataFrame.\n",
      "Try using .loc[row_indexer,col_indexer] = value instead\n",
      "\n",
      "See the caveats in the documentation: https://pandas.pydata.org/pandas-docs/stable/user_guide/indexing.html#returning-a-view-versus-a-copy\n",
      "  \"\"\"\n"
     ]
    },
    {
     "data": {
      "image/png": "[encoded data removed]",
      "text/plain": [
       "<Figure size 432x288 with 1 Axes>"
      ]
     },
     "metadata": {
      "needs_background": "light"
     },
     "output_type": "display_data"
    }
   ],
   "source": [
    "#re-transform testing dataset\n",
    "prediction_result = mms.inverse_transform(np.array(testing_dataset_list[-testing_size:]).reshape(testing_size,1))\n",
    "\n",
    "compare = testing.tail(testing_size)\n",
    "compare['prediction']=prediction_result\n",
    "\n",
    "plt.title('Milk Production')\n",
    "plt.plot(compare) #Orange prediction\n",
    "plt.show()"
   ]
  }
 ],
 "metadata": {
  "kernelspec": {
   "display_name": "Python 3",
   "language": "python",
   "name": "python3"
  },
  "language_info": {
   "codemirror_mode": {
    "name": "ipython",
    "version": 3
   },
   "file_extension": ".py",
   "mimetype": "text/x-python",
   "name": "python",
   "nbconvert_exporter": "python",
   "pygments_lexer": "ipython3",
   "version": "3.7.9"
  }
 },
 "nbformat": 4,
 "nbformat_minor": 5
}
